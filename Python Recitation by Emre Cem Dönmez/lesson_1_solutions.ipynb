{
 "cells": [
  {
   "cell_type": "markdown",
   "metadata": {},
   "source": [
    "Read two numbers, then print the sum of these two numbers (When you run the code, you should write something and hit “Enter” as the user.  \n",
    "You do this not on the editor, but on the console):"
   ]
  },
  {
   "cell_type": "code",
   "execution_count": null,
   "metadata": {},
   "outputs": [],
   "source": [
    "a = float(input(\"Enter the first number:\"))\n",
    "b = float(input(\"Enter the second number:\"))\n",
    "\n",
    "print(\"Sum of these two numbers is:\", a + b)\n",
    "print(f\"Sum of these two numbers is: {a + b}\")\n",
    "print(\"Sum of these two numbers is: {}\".format(a + b))"
   ]
  },
  {
   "cell_type": "markdown",
   "metadata": {},
   "source": [
    "Ask the name of the user. Greet the user in Turkish language."
   ]
  },
  {
   "cell_type": "code",
   "execution_count": null,
   "metadata": {},
   "outputs": [],
   "source": [
    "name = input(\"What is your name?\")\n",
    "\n",
    "print(\"Merhaba \" + name + \"!\")\n",
    "print(f\"Merhaba {name}!\")"
   ]
  },
  {
   "cell_type": "markdown",
   "metadata": {},
   "source": [
    "Ask user a number and display the square root of this number (Note that $x^{0.5}$ is equivalent to square root of $x$)."
   ]
  },
  {
   "cell_type": "code",
   "execution_count": 3,
   "metadata": {},
   "outputs": [
    {
     "name": "stdout",
     "output_type": "stream",
     "text": [
      "2.23606797749979\n"
     ]
    }
   ],
   "source": [
    "number = float(input(\"Enter a number:\"))\n",
    "\n",
    "print(number ** 0.5)\n",
    "# print(number ** 1 / 2) Olmaz, operator precedence\n",
    "# print(number ** (1 / 2)) "
   ]
  },
  {
   "cell_type": "markdown",
   "metadata": {},
   "source": [
    "Solve a linear equation with one variable:"
   ]
  },
  {
   "cell_type": "code",
   "execution_count": null,
   "metadata": {},
   "outputs": [],
   "source": [
    "print(\"For the equation ax + b = c\")\n",
    "\n",
    "a = float(input(\"a = \"))\n",
    "b = float(input(\"b = \"))\n",
    "c = float(input(\"c = \"))\n",
    "\n",
    "x = (c - b) / a\n",
    "\n",
    "print(\"x =\", x)\n",
    "# print(f\"x = {x}\")\n",
    "# print(\"x = {}\".format(x))"
   ]
  },
  {
   "cell_type": "markdown",
   "metadata": {},
   "source": [
    "Ask the user what year they were born and print how old they are (Assume we are in 2022. Don’t consider the month).  \n",
    "\n",
    "For example:  \n",
    "\n",
    "``What year were you born? ``<span style=\"color:red; font-family:monospace; font-weight:bold\">2000</span>  \n",
    "``So you are 22 years old.``  \n"
   ]
  },
  {
   "cell_type": "code",
   "execution_count": null,
   "metadata": {},
   "outputs": [],
   "source": [
    "birth_year = int(input(\"What year were you born?\"))\n",
    "\n",
    "print(f\"So you are {2022 - birth_year} years old.\")\n",
    "# print(\"So you are {} years old.\".format(2022 - birth_year))"
   ]
  },
  {
   "cell_type": "markdown",
   "metadata": {},
   "source": [
    "Ask the user for 3 numbers. Display the arithmetic mean (=average) of these numbers.  \n",
    "\n",
    "For example:  \n",
    "\n",
    "``Enter a number: ``<span style=\"color:red; font-family:monospace; font-weight:bold\">5</span>  \n",
    "``Enter another number: ``<span style=\"color:red; font-family:monospace; font-weight:bold\">5.5</span>  \n",
    "``Enter one more number: ``<span style=\"color:red; font-family:monospace; font-weight:bold\">1.5</span>  \n",
    "``The average of these numbers: 4.0``  "
   ]
  },
  {
   "cell_type": "code",
   "execution_count": null,
   "metadata": {},
   "outputs": [],
   "source": [
    "number1 = float(input(\"Enter a number:\"))\n",
    "number2 = float(input(\"Enter another number:\"))\n",
    "number3 = float(input(\"Enter one more number:\"))\n",
    "\n",
    "print(\"The average of there numbers:\", (number1 + number2 + number3) / 3)"
   ]
  },
  {
   "cell_type": "markdown",
   "metadata": {},
   "source": [
    "Ask the user for their homework, midterm and final grades. Calculate their course grade which is a weighted average of all these grades  \n",
    "(Weights: 10% for homeworks, 30% for midterm exam and 60% for final exam).  \n",
    "\n",
    "For example:  \n",
    "\n",
    "``Enter your homework grade: ``<span style=\"color:red; font-family:monospace; font-weight:bold\">100</span>  \n",
    "``Enter your midterm exam grade: ``<span style=\"color:red; font-family:monospace; font-weight:bold\">50</span>  \n",
    "``Enter your final exam grade: ``<span style=\"color:red; font-family:monospace; font-weight:bold\">60</span>  \n",
    "``Your course grade: 61.0``  \n"
   ]
  },
  {
   "cell_type": "code",
   "execution_count": null,
   "metadata": {},
   "outputs": [],
   "source": [
    "homework = float(input(\"Enter your homework grade:\"))\n",
    "midterm = float(input(\"Enter your midterm grade:\"))\n",
    "final = float(input(\"Enter your final grade:\"))\n",
    "\n",
    "print(\"Your course grade:\", homework * 10 / 100 + midterm * 30 / 100 + final * 60 / 100)"
   ]
  },
  {
   "cell_type": "markdown",
   "metadata": {},
   "source": [
    "Calculate the following mathematical expression (There is no user input):  \n",
    "\n",
    "$\\Large\\frac{(2x+y)^2\\sqrt{z}}{\\sqrt{x}\\sqrt{y}}$  \n",
    "\n",
    "when $x = 1$, $y = 4$ and $z = 0.25$.  \n"
   ]
  },
  {
   "cell_type": "code",
   "execution_count": null,
   "metadata": {},
   "outputs": [],
   "source": [
    "x = 1\n",
    "y = 4\n",
    "z = 0.25\n",
    "\n",
    "expression = ((2 * x + y) ** 2 * z ** 0.5) / (x ** 0.5 * y ** 0.5)\n",
    "\n",
    "print(expression)"
   ]
  },
  {
   "cell_type": "markdown",
   "metadata": {},
   "source": [
    "Ask the user for temperature in Celsius and print it in Fahrenheit (e.g. If the input is 30.0, the output should be 86.0)."
   ]
  },
  {
   "cell_type": "code",
   "execution_count": 8,
   "metadata": {},
   "outputs": [
    {
     "name": "stdout",
     "output_type": "stream",
     "text": [
      "Fahrenheit: 59.0\n"
     ]
    }
   ],
   "source": [
    "celsius = float(input(\"Enter temperature in Celsius:\"))\n",
    "\n",
    "fahrenheit = (celsius * 9 / 5) + 32\n",
    "\n",
    "print(\"Fahrenheit:\", fahrenheit)"
   ]
  },
  {
   "cell_type": "markdown",
   "metadata": {},
   "source": [
    "Ask the user for seconds and display the corresponding number of days, hours, minutes and seconds.  \n",
    "\n",
    "``Enter seconds: ``<span style=\"color:red; font-family:monospace; font-weight:bold\">3800</span>  \n",
    "``3800 seconds = 0 days 1 hours 3 minutes 20 seconds``"
   ]
  },
  {
   "cell_type": "code",
   "execution_count": null,
   "metadata": {},
   "outputs": [],
   "source": [
    "time_in_seconds = int(input(\"Enter seconds:\"))\n",
    "\n",
    "seconds = time_in_seconds % 60\n",
    "minutes = time_in_seconds // 60\n",
    "hours = minutes // 60\n",
    "minutes %= 60\n",
    "days = hours // 24\n",
    "hours %= 24\n",
    "\n",
    "print(f\"{time_in_seconds} seconds = {days} days {hours} hours {minutes} minutes {seconds} seconds\")\n"
   ]
  },
  {
   "cell_type": "markdown",
   "metadata": {},
   "source": [
    "Ask the user for the radius length of a circle and display four values:  \n",
    "1. the area of that circle,  \n",
    "2. the circumference of that circle,  \n",
    "3. the area of the smallest square that covers this circle,  \n",
    "4. the area of the largest square that can fit inside this circle.  \n"
   ]
  },
  {
   "cell_type": "code",
   "execution_count": null,
   "metadata": {},
   "outputs": [],
   "source": [
    "import math\n",
    "\n",
    "pi = math.pi\n",
    "\n",
    "radius = float(input(\"Enter radius of the circle:\"))\n",
    "\n",
    "area = pi * radius ** 2\n",
    "circumference = pi * radius * 2\n",
    "area_of_first_square = (radius * 2) ** 2\n",
    "area_of_second_square = ((radius * 2) / 2 ** 0.5) ** 2\n",
    "\n",
    "print(\"the area of that circle:\", area)\n",
    "print(\"the circumference of that circle:\", circumference)\n",
    "print(\"the area of the smallest square that covers this circle:\", area_of_first_square)\n",
    "print(\"the area of the largest square that can fit inside this circle:\", area_of_second_square)"
   ]
  },
  {
   "cell_type": "markdown",
   "metadata": {},
   "source": [
    "Ask the user for the radii (r1 and r2) of two tangent circles and calculate the blue area shown below (The surrounding circle is the smallest circle that covers both of these two circles).  \n",
    "\n",
    "<img src=\"circle.png\"/>"
   ]
  },
  {
   "cell_type": "code",
   "execution_count": null,
   "metadata": {},
   "outputs": [],
   "source": [
    "import math\n",
    "\n",
    "pi = math.pi\n",
    "\n",
    "r1 = float(input(\"Enter the radius of first circle:\"))\n",
    "r2 = float(input(\"Enter the radius of second circle:\"))\n",
    "radius_of_third_circle = r1 + r2\n",
    "\n",
    "area_of_first_circle = pi * r1 ** 2\n",
    "area_of_second_circle = pi * r2 ** 2\n",
    "area_of_third_circle = pi * radius_of_third_circle ** 2\n",
    "\n",
    "expression = area_of_third_circle - area_of_second_circle - area_of_first_circle\n",
    "\n",
    "print(\"Result:\", expression)\n"
   ]
  }
 ],
 "metadata": {
  "kernelspec": {
   "display_name": "Python 3.10.5 64-bit",
   "language": "python",
   "name": "python3"
  },
  "language_info": {
   "codemirror_mode": {
    "name": "ipython",
    "version": 3
   },
   "file_extension": ".py",
   "mimetype": "text/x-python",
   "name": "python",
   "nbconvert_exporter": "python",
   "pygments_lexer": "ipython3",
   "version": "3.10.5"
  },
  "orig_nbformat": 4,
  "vscode": {
   "interpreter": {
    "hash": "d7cdd4bd10924f2a5600f3e3f8ff8c4f45ce4e033c01be5511cc2e78bc05c683"
   }
  }
 },
 "nbformat": 4,
 "nbformat_minor": 2
}
