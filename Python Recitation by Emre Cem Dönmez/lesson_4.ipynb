{
 "cells": [
  {
   "attachments": {},
   "cell_type": "markdown",
   "metadata": {},
   "source": [
    "### Min and Argmin\n",
    "Let x ∈ {1, 2, 3, …, 100} and $f(x) = x^3 - 6x^2 + 4x + 12$. Find min f(x) and argmin f(x). (There is no user input!)  \n",
    "(Argmin f(x) refers to the x value which makes the value of f(x) minimum. For example if the minimum of f(1), f(2), …, f(100) is f(8), then min f(x) is the value of f(8) and argmin f(x) is 8.)\n"
   ]
  },
  {
   "cell_type": "code",
   "execution_count": 10,
   "metadata": {},
   "outputs": [
    {
     "name": "stdout",
     "output_type": "stream",
     "text": [
      "Minimum: -4\n",
      "Argmin: 4\n"
     ]
    }
   ],
   "source": [
    "def f(x):\n",
    "    return x ** 3 - 6 * x ** 2 + 4 * x + 12\n",
    "\n",
    "\n",
    "argmin = 0\n",
    "minimum = float(\"+inf\")\n",
    "\n",
    "for x in range(1, 101):\n",
    "    if f(x) < minimum:\n",
    "        minimum = f(x)\n",
    "        argmin = x\n",
    "\n",
    "print(\"Minimum:\", minimum)\n",
    "print(\"Argmin:\", argmin)"
   ]
  },
  {
   "attachments": {},
   "cell_type": "markdown",
   "metadata": {},
   "source": [
    "### Nested loops\n",
    "\n",
    "Bir koridorda 1’den 100’e kadar numaralandırılmış 100 dolap ve yine 1’den 100’e kadar numaralandırılmış 100 öğrenci var. Başta bütün dolaplar kapalı. Sonra  \n",
    "\t1. öğrenci 1. dolaptan başlayıp her 1. dolabı (1, 2, 3, …) açıksa kapatıyor, kapalıysa açıyor.  \n",
    "\t2. öğrenci 2. dolaptan başlayıp her 2. dolabı (2, 4, 6, …) açıksa kapatıyor, kapalıysa açıyor.  \n",
    "\t3. öğrenci 3. dolaptan başlayıp her 3. dolabı (3, 6, 9, …) açıksa kapatıyor, kapalıysa açıyor.  \n",
    "\tBu şekilde son öğrenciye kadar gidiyor.  \n",
    "En son oluşan durumda açık olan dolaplar hangileridir?  "
   ]
  },
  {
   "cell_type": "code",
   "execution_count": null,
   "metadata": {},
   "outputs": [],
   "source": [
    "doors = [False for _ in range(101)]\n",
    "\n",
    "for student in range(1, 101):\n",
    "    for i in range(student, 101, student):\n",
    "        doors[i] = not doors[i]\n",
    "        \n",
    "        #if doors[i]:\n",
    "        #    doors[i] = False\n",
    "        #else:\n",
    "        #    doors[i] = True\n",
    "\n",
    "for i in range(1, 101):\n",
    "    if doors[i]:\n",
    "        print(i)\n",
    "\n",
    "# 10\n",
    "# 1 10\n",
    "# 2 5\n",
    "\n",
    "# 16\n",
    "# 1 16\n",
    "# 2 8\n",
    "# 4\n",
    "\n",
    "def is_prime(number):\n",
    "    if number <= 1:\n",
    "        return False\n",
    "    if number == 2:\n",
    "        return True\n",
    "    if number % 2 == 0:\n",
    "        return False\n",
    "\n",
    "    for divisior in range(3, int(number ** 0.5) + 1, 2):\n",
    "        if number % divisior == 0:\n",
    "            return False\n",
    "    \n",
    "    return True\n",
    "\n",
    "\n",
    "for i in range(1, 21):\n",
    "    print(f\"{i}: {is_prime(i)}\")"
   ]
  },
  {
   "attachments": {},
   "cell_type": "markdown",
   "metadata": {},
   "source": [
    "### Coin Simulation\n",
    "n para atılacak (kullanıcı tarafından girilir),  \n",
    "0 tura gelme olasılığı, 1 tura gelme olasılığı, ..., n tura gelme olasılığı  \n",
    "Bunların hepsini yazdır.  \n",
    "Olasılıkları hesaplamanın 2 yolu var:  \n",
    "1) Matematiksel yol  \n",
    "2) Simülasyon (Programda mesela 1 milyon kere deneyip oranı buldurursun) --> Bu şekilde yapılacak.  \n"
   ]
  },
  {
   "cell_type": "code",
   "execution_count": null,
   "metadata": {},
   "outputs": [],
   "source": [
    "import random\n",
    "\n",
    "# n = 5\n",
    "# 0: yazı\n",
    "# 1: tura\n",
    "# 0 1 1 0 1\n",
    "# 1 0 1 1 1\n",
    "\n",
    "simulation_number = 100\n",
    "possibilities = {}\n",
    "n = int(input(\"Enter n:\"))\n",
    "\n",
    "for _ in range(simulation_number):\n",
    "    counter_tura = 0\n",
    "\n",
    "    for _ in range(n):\n",
    "        counter_tura += random.randint(0, 1)\n",
    "        #if random.randint(0, 1) == 1:\n",
    "        #    counter_tura += 1\n",
    "\n",
    "    if counter_tura in possibilities.keys():\n",
    "        possibilities[counter_tura] += 1\n",
    "    else:\n",
    "        possibilities[counter_tura] = 1\n",
    "\n",
    "for i in range(n + 1):\n",
    "    print(f\"{i}: {possibilities.get(i, 0) / simulation_number * 100}\")"
   ]
  },
  {
   "attachments": {},
   "cell_type": "markdown",
   "metadata": {},
   "source": [
    "Kullanıcının girdiği pozitif tamsayının rakamları toplamını bulunuz."
   ]
  },
  {
   "cell_type": "code",
   "execution_count": null,
   "metadata": {},
   "outputs": [],
   "source": [
    "number = int(input(\"Enter an integer: \"))\n",
    "# binary shifting\n",
    "# >>\n",
    "# <<\n",
    "\n",
    "# shifting\n",
    "temp = number\n",
    "counter = 0\n",
    "\n",
    "while temp > 0:\n",
    "    counter += temp % 10\n",
    "    temp //= 10\n",
    "\n",
    "print(counter)\n",
    "\n",
    "counter = 0\n",
    "\n",
    "for char in str(number):\n",
    "    counter += int(char)\n",
    "\n",
    "print(counter)"
   ]
  },
  {
   "attachments": {},
   "cell_type": "markdown",
   "metadata": {},
   "source": [
    "### XOX Game\n",
    "\n",
    "``123``  \n",
    "``456``  \n",
    "``789``  \n",
    "``First player: ``<span style=\"color:red; font-family:monospace; font-weight:bold\">2</span>  \n",
    "``1X3``  \n",
    "``456``  \n",
    "``789``  \n",
    "``Second player: ``<span style=\"color:red; font-family:monospace; font-weight:bold\">2</span>  \n",
    "``Invalid request try again.``\n",
    "``Second player: ``<span style=\"color:red; font-family:monospace; font-weight:bold\">3</span>  \n",
    "``1XO``  \n",
    "``456``  \n",
    "``789``  \n",
    "``First player: ``<span style=\"color:red; font-family:monospace; font-weight:bold\">5</span>  \n",
    "``1XO``  \n",
    "``4X6``  \n",
    "``789``  \n",
    "``Second player: ``<span style=\"color:red; font-family:monospace; font-weight:bold\">1</span>  \n",
    "``OXO``  \n",
    "``4X6``  \n",
    "``789``  \n",
    "``First player: ``<span style=\"color:red; font-family:monospace; font-weight:bold\">8</span>  \n",
    "``OXO``  \n",
    "``4X6``  \n",
    "``7X9``  \n",
    "``First player won!``"
   ]
  }
 ],
 "metadata": {
  "kernelspec": {
   "display_name": "Python 3",
   "language": "python",
   "name": "python3"
  },
  "language_info": {
   "codemirror_mode": {
    "name": "ipython",
    "version": 3
   },
   "file_extension": ".py",
   "mimetype": "text/x-python",
   "name": "python",
   "nbconvert_exporter": "python",
   "pygments_lexer": "ipython3",
   "version": "3.10.5"
  },
  "orig_nbformat": 4,
  "vscode": {
   "interpreter": {
    "hash": "d7cdd4bd10924f2a5600f3e3f8ff8c4f45ce4e033c01be5511cc2e78bc05c683"
   }
  }
 },
 "nbformat": 4,
 "nbformat_minor": 2
}
