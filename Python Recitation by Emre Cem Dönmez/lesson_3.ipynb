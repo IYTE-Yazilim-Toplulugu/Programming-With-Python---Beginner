{
 "cells": [
  {
   "cell_type": "code",
   "execution_count": null,
   "metadata": {},
   "outputs": [],
   "source": [
    "# tuple, set, dictionary\n",
    "\n",
    "my_dictionary = {\"1\": 5, \"2\": 13}\n",
    "\n",
    "\n",
    "\n",
    "\n",
    "print(my_dictionary)\n",
    "\n",
    "#if \"3\" in my_dictionary.keys():\n",
    "#    print(my_dictionary[\"3\"])\n",
    "#else:\n",
    "#    print(\"this key doesn't exist in dictionary\")"
   ]
  },
  {
   "attachments": {},
   "cell_type": "markdown",
   "metadata": {},
   "source": [
    "Is the input valid? Age input"
   ]
  },
  {
   "cell_type": "code",
   "execution_count": 23,
   "metadata": {},
   "outputs": [],
   "source": [
    "age = int(input(\"Enter your age:\"))\n",
    "while not 0 < age < 200:\n",
    "    age = int(input(\"Your input is invalid. Enter your age:\"))\n",
    "\n",
    "name = input(\"Enter your name:\")\n",
    "while len(name) < 3:\n",
    "    name = input(\"Your input is invalid. Enter your name:\")"
   ]
  },
  {
   "attachments": {},
   "cell_type": "markdown",
   "metadata": {},
   "source": [
    "Is the input valid? Number guessing game"
   ]
  },
  {
   "cell_type": "code",
   "execution_count": null,
   "metadata": {},
   "outputs": [],
   "source": [
    "import random\n",
    "\n",
    "guess_counter = 1\n",
    "\n",
    "wanted_number = random.randint(1, 10)\n",
    "print(\"Aklımdan 1 ile 10 arasında bir sayı tuttum. Tahmin etmeye çalış.\")\n",
    "\n",
    "guess = int(input(\"Tahminin:\"))\n",
    "while guess != wanted_number:\n",
    "    if guess < wanted_number:\n",
    "        print(\"Aklımda tuttuğum sayı bu sayıdan daha büyük.\")\n",
    "    else:\n",
    "        print(\"Aklımda tuttuğum sayı bu sayıdan daha küçük.\")\n",
    "\n",
    "    guess = int(input(\"Tahminin:\"))\n",
    "    guess_counter += 1\n",
    "\n",
    "print(f\"Bildin! {guess_counter} kadar tahminde bildin.\")\n"
   ]
  },
  {
   "attachments": {},
   "cell_type": "markdown",
   "metadata": {},
   "source": [
    "Is the input valid? Log in system"
   ]
  },
  {
   "cell_type": "code",
   "execution_count": null,
   "metadata": {},
   "outputs": [],
   "source": [
    "user_info = {\"abc\": \"0000\", \"emre\": \"1234\", \"ahmet\": \"2222\"}\n",
    "\n",
    "username = input(\"Enter your username: \")\n",
    "password = input(\"Enter your password: \")\n",
    "\n",
    "while True:\n",
    "    if username in user_info.keys() and user_info[username] == password:\n",
    "        print(\"Authenticated.\")\n",
    "        break\n",
    "\n",
    "    print(\"Your username or password is wrong. Try again.\")\n",
    "    username = input(\"Enter your username: \")\n",
    "    password = input(\"Enter your password: \")\n"
   ]
  },
  {
   "attachments": {},
   "cell_type": "markdown",
   "metadata": {},
   "source": [
    "Iterating ranges: display squares of integers from 50 to 250"
   ]
  },
  {
   "cell_type": "code",
   "execution_count": null,
   "metadata": {},
   "outputs": [],
   "source": [
    "for number in range(50, 251, 1):\n",
    "    print(number ** 2)"
   ]
  },
  {
   "attachments": {},
   "cell_type": "markdown",
   "metadata": {},
   "source": [
    "Iterating ranges: Ask the user two numbers and display even numbers from first number to second number"
   ]
  },
  {
   "cell_type": "code",
   "execution_count": 40,
   "metadata": {},
   "outputs": [
    {
     "name": "stdout",
     "output_type": "stream",
     "text": [
      "4\n",
      "6\n",
      "8\n",
      "10\n"
     ]
    }
   ],
   "source": [
    "first_number = int(input(\"Enter first number: \"))\n",
    "second_number = int(input(\"Enter second number: \"))\n",
    "\n",
    "if first_number % 2 == 1:\n",
    "    first_number += 1\n",
    "\n",
    "for number in range(first_number, second_number + 1, 2):\n",
    "    print(number)"
   ]
  },
  {
   "attachments": {},
   "cell_type": "markdown",
   "metadata": {},
   "source": [
    "Nested loops: cartesian product  \n",
    "\n",
    "let A = {1, 2, 3, 4, 5} and B = {1, 2, 3} display A x B"
   ]
  },
  {
   "cell_type": "code",
   "execution_count": 42,
   "metadata": {},
   "outputs": [
    {
     "name": "stdout",
     "output_type": "stream",
     "text": [
      "[(1, 1), (1, 2), (1, 3), (2, 1), (2, 2), (2, 3), (4, 1), (4, 2), (4, 3), (5, 1), (5, 2), (5, 3)]\n"
     ]
    }
   ],
   "source": [
    "cartesian_product = []\n",
    "\n",
    "a = [1, 2, 4, 5]\n",
    "b = [1, 2, 3]\n",
    "\n",
    "for number0 in a:\n",
    "    for number1 in b:\n",
    "        cartesian_product.append((number0, number1))\n",
    "\n",
    "print(cartesian_product)"
   ]
  },
  {
   "attachments": {},
   "cell_type": "markdown",
   "metadata": {},
   "source": [
    "Ask the user an integer and display if that integer is prime."
   ]
  },
  {
   "cell_type": "code",
   "execution_count": 48,
   "metadata": {},
   "outputs": [
    {
     "name": "stdout",
     "output_type": "stream",
     "text": [
      "This number is not a prime number.\n"
     ]
    }
   ],
   "source": [
    "def is_prime(number):\n",
    "    if number <= 1:\n",
    "        return False\n",
    "    if number == 2:\n",
    "        return True\n",
    "\n",
    "    if number % 2 == 0:\n",
    "        return False\n",
    "\n",
    "    for divisior in range(3, number, 2):\n",
    "        if number % divisior == 0:\n",
    "            return False\n",
    "    \n",
    "    return True\n",
    "\n",
    "\n",
    "number = int(input(\"Enter a number: \"))\n",
    "\n",
    "if is_prime(number):\n",
    "    print(\"This number is a prime number.\")\n",
    "else:\n",
    "    print(\"This number is not a prime number.\")"
   ]
  },
  {
   "attachments": {},
   "cell_type": "markdown",
   "metadata": {},
   "source": [
    "### Listing multipliers  \n",
    "The user should enter a positive integer. Display all the multipliers of this number which are between 1 and 100 (inclusive).  \n",
    "\n",
    "``Enter a number: ``<span style=\"color:red; font-family:monospace; font-weight:bold\">20</span>  \n",
    "``20``  \n",
    "``40``  \n",
    "``60``  \n",
    "``80``  \n",
    "``100``  "
   ]
  },
  {
   "cell_type": "code",
   "execution_count": 50,
   "metadata": {},
   "outputs": [
    {
     "name": "stdout",
     "output_type": "stream",
     "text": [
      "5\n",
      "10\n",
      "15\n",
      "20\n",
      "25\n",
      "30\n",
      "35\n",
      "40\n",
      "45\n",
      "50\n",
      "55\n",
      "60\n",
      "65\n",
      "70\n",
      "75\n",
      "80\n",
      "85\n",
      "90\n",
      "95\n",
      "100\n"
     ]
    }
   ],
   "source": [
    "number = int(input(\"Enter a number: \"))\n",
    "\n",
    "for multiplier in range(number, 101, number):\n",
    "    print(multiplier)"
   ]
  },
  {
   "attachments": {},
   "cell_type": "markdown",
   "metadata": {},
   "source": [
    "### Summation notation\n",
    "Ask the user for n which is an integer and display the result of the following expression. \n",
    "\n",
    "$$\\sum_{k = 1}^{k = n^2} 3k^2 + \\frac{4^{2k + 1} + 5^{4k - 1}}{7^{-k + 4}}$$"
   ]
  },
  {
   "cell_type": "code",
   "execution_count": 53,
   "metadata": {},
   "outputs": [
    {
     "name": "stdout",
     "output_type": "stream",
     "text": [
      "30524819761.836735\n"
     ]
    }
   ],
   "source": [
    "n = int(input(\"Enter n: \"))\n",
    "counter = 0\n",
    "\n",
    "for k in range(1, n ** 2 + 1):\n",
    "    counter += 3 * k ** 2 + (4 ** (2 * k + 1) + 5 ** (4 * k - 1)) / 7 ** (-k + 4)\n",
    "\n",
    "print(counter)"
   ]
  },
  {
   "attachments": {},
   "cell_type": "markdown",
   "metadata": {},
   "source": [
    "### GCD and LCM\n",
    "Let the user enter 2 integers. Display their GCD (greatest common divisor) and LCM (least common multiplier)."
   ]
  },
  {
   "cell_type": "code",
   "execution_count": 56,
   "metadata": {},
   "outputs": [
    {
     "name": "stdout",
     "output_type": "stream",
     "text": [
      "GCD: 1\n",
      "LCM: 200\n"
     ]
    }
   ],
   "source": [
    "first_number = int(input(\"Enter first number: \"))\n",
    "second_number = int(input(\"Enter second number: \"))\n",
    "\n",
    "gcd = 1\n",
    "\n",
    "for divisior in range(2, min(first_number, second_number) + 1):\n",
    "    if first_number % divisior == 0 and second_number % divisior == 0:\n",
    "        gcd = divisior\n",
    "\n",
    "# a * b = lcm(a, b) * gcd(a, b)\n",
    "# (a * b) / gcd(a, b) = lcm(a, b)\n",
    "\n",
    "print(f\"GCD: {gcd}\")\n",
    "print(f\"LCM: {first_number * second_number // gcd}\")"
   ]
  },
  {
   "attachments": {},
   "cell_type": "markdown",
   "metadata": {},
   "source": [
    "### Generating a string pattern\n",
    "\n",
    "Let the user enter n which is a positive and odd integer (If the input does not satisfy the requirements, ask the question again). Display the relevant pattern:"
   ]
  },
  {
   "cell_type": "code",
   "execution_count": 63,
   "metadata": {},
   "outputs": [
    {
     "name": "stdout",
     "output_type": "stream",
     "text": [
      "       *\n",
      "      ***\n",
      "     *****\n",
      "    *******\n",
      "   *********\n",
      "  ***********\n",
      " *************\n",
      "***************\n",
      " *************\n",
      "  ***********\n",
      "   *********\n",
      "    *******\n",
      "     *****\n",
      "      ***\n",
      "       *\n"
     ]
    }
   ],
   "source": [
    "\"\"\"\n",
    "If n = 3:\n",
    " *\t\t\t(1 spaces, 1 asterisks)\n",
    "***\t\t\t(0 spaces, 3 asterisks)\n",
    " *\t\t\t(1 spaces, 1 asterisks)\n",
    "\n",
    "If n = 7:\n",
    "   *\t\t\t(3 spaces, 1 asterisks)\n",
    "  ***\t\t\t(2 spaces, 3 asterisks)\n",
    " *****\t\t(1 spaces, 5 asterisks)\n",
    "*******\t\t(0 spaces, 7 asterisks)\n",
    " *****\t\t(1 spaces, 5 asterisks)\n",
    "  ***\t\t\t(2 spaces, 3 asterisks)\n",
    "   *\t\t\t(3 spaces, 1 asterisks)\n",
    "\"\"\"\n",
    "\n",
    "n = int(input(\"Enter n: \"))\n",
    "while n % 2 == 0:\n",
    "   n = int(input(\"N must be an odd number. Enter n: \"))\n",
    "\n",
    "\n",
    "for star_number in range(1, n + 1, 2):\n",
    "   print(\" \" * ((n - star_number) // 2) + \"*\" * star_number)\n",
    "\n",
    "for star_number in range(n - 2, 0, -2):\n",
    "   print(\" \" * ((n - star_number) // 2) + \"*\" * star_number)"
   ]
  }
 ],
 "metadata": {
  "kernelspec": {
   "display_name": "Python 3",
   "language": "python",
   "name": "python3"
  },
  "language_info": {
   "codemirror_mode": {
    "name": "ipython",
    "version": 3
   },
   "file_extension": ".py",
   "mimetype": "text/x-python",
   "name": "python",
   "nbconvert_exporter": "python",
   "pygments_lexer": "ipython3",
   "version": "3.10.5"
  },
  "orig_nbformat": 4,
  "vscode": {
   "interpreter": {
    "hash": "d7cdd4bd10924f2a5600f3e3f8ff8c4f45ce4e033c01be5511cc2e78bc05c683"
   }
  }
 },
 "nbformat": 4,
 "nbformat_minor": 2
}
