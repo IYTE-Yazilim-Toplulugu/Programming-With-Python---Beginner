{
 "cells": [
  {
   "cell_type": "markdown",
   "metadata": {},
   "source": [
    "Write a program that asks the user to enter two numbers, and then prints the larger of the two numbers.  \n",
    "\n",
    "``Enter first number: ``<span style=\"color:red; font-family:monospace; font-weight:bold\">11</span>  \n",
    "``Enter second number: ``<span style=\"color:red; font-family:monospace; font-weight:bold\">26</span>    \n",
    "``Greatest: 26``  "
   ]
  },
  {
   "cell_type": "code",
   "execution_count": 45,
   "metadata": {},
   "outputs": [
    {
     "name": "stdout",
     "output_type": "stream",
     "text": [
      "Greatest: 5.0\n"
     ]
    }
   ],
   "source": [
    "number1 = float(input(\"Enter first number:\"))\n",
    "number2 = float(input(\"Enter secont number:\"))\n",
    "greatest = 0.0\n",
    "\n",
    "if number1 > number2:\n",
    "    greatest = number1\n",
    "else:\n",
    "    greatest = number2\n",
    "\n",
    "print(\"Greatest:\", greatest)"
   ]
  },
  {
   "cell_type": "markdown",
   "metadata": {},
   "source": [
    "Ask the user a number and display this number is whether positive, negative or unsigned.  \n",
    "\n",
    "``Enter an integer: ``<span style=\"color:red; font-family:monospace; font-weight:bold\">8</span>  \n",
    "``The number is positive.``"
   ]
  },
  {
   "cell_type": "code",
   "execution_count": 44,
   "metadata": {},
   "outputs": [
    {
     "name": "stdout",
     "output_type": "stream",
     "text": [
      "The number is negative.\n"
     ]
    }
   ],
   "source": [
    "number = int(input(\"Enter an integer:\"))\n",
    "number_type = \"\"\n",
    "\n",
    "if number > 0:\n",
    "    number_type = \"positive.\"\n",
    "elif number < 0:\n",
    "    number_type = \"negative.\"\n",
    "else:\n",
    "    number_type = \"unsigned.\"\n",
    "\n",
    "print(\"The number is\", number_type)\n"
   ]
  },
  {
   "attachments": {},
   "cell_type": "markdown",
   "metadata": {},
   "source": [
    "Ask the user a number and display abstract value of this number.  \n",
    "\n",
    "``Enter a number: ``<span style=\"color:red; font-family:monospace; font-weight:bold\">-15</span>  \n",
    "``Abstract value of this number: 15``"
   ]
  },
  {
   "cell_type": "code",
   "execution_count": 49,
   "metadata": {},
   "outputs": [
    {
     "name": "stdout",
     "output_type": "stream",
     "text": [
      "Abstract value of this number: 15.8\n"
     ]
    }
   ],
   "source": [
    "number = float(input(\"Enter a number:\"))\n",
    "abstract_value = number\n",
    "\n",
    "if abstract_value < 0:\n",
    "    abstract_value = -abstract_value\n",
    "\n",
    "print(\"Abstract value of this number:\", abstract_value)\n"
   ]
  },
  {
   "cell_type": "markdown",
   "metadata": {},
   "source": [
    "Ask the user a number and display this number is whether odd or even.  \n",
    "\n",
    "``Enter an integer: ``<span style=\"color:red; font-family:monospace; font-weight:bold\">8</span>  \n",
    "``The number is even``"
   ]
  },
  {
   "cell_type": "code",
   "execution_count": 51,
   "metadata": {},
   "outputs": [
    {
     "name": "stdout",
     "output_type": "stream",
     "text": [
      "The number is odd\n"
     ]
    }
   ],
   "source": [
    "number = int(input(\"Enter an integer:\"))\n",
    "number_type = \"\"\n",
    "\n",
    "if number % 2 == 0:\n",
    "    number_type = \"even\"\n",
    "else:\n",
    "    number_type = \"odd\"\n",
    "\n",
    "\"\"\"\n",
    "if number & 1:\n",
    "    number_type = \"odd\"\n",
    "else:\n",
    "    number_type = \"even\"\n",
    "\"\"\"\n",
    "\n",
    "print(\"The number is\", number_type)"
   ]
  },
  {
   "cell_type": "markdown",
   "metadata": {},
   "source": [
    "Ask the user a number and display this number is whether a multiple of 3 or not.  \n",
    "\n",
    "``Enter a number: ``<span style=\"color:red; font-family:monospace; font-weight:bold\">8</span>  \n",
    "``The number is not a multiple of 3.``"
   ]
  },
  {
   "cell_type": "code",
   "execution_count": 53,
   "metadata": {},
   "outputs": [
    {
     "name": "stdout",
     "output_type": "stream",
     "text": [
      "The number is a multiple of 3.\n"
     ]
    }
   ],
   "source": [
    "number = int(input(\"Enter a number:\"))\n",
    "\n",
    "if number % 3 == 0:\n",
    "    print(\"The number is a multiple of 3.\")\n",
    "else:\n",
    "    print(\"The number is not a multiple of 3.\")"
   ]
  },
  {
   "cell_type": "markdown",
   "metadata": {},
   "source": [
    "Ask the user two numbers and display first number is whether a multiple of second number or not.  \n",
    "\n",
    "``Enter first number: ``<span style=\"color:red; font-family:monospace; font-weight:bold\">15</span>  \n",
    "``Enter second number: ``<span style=\"color:red; font-family:monospace; font-weight:bold\">5</span>  \n",
    "``15 is a multiple of 5.``"
   ]
  },
  {
   "cell_type": "code",
   "execution_count": 56,
   "metadata": {},
   "outputs": [
    {
     "name": "stdout",
     "output_type": "stream",
     "text": [
      "15 is a multiple of 3\n"
     ]
    }
   ],
   "source": [
    "number1 = int(input(\"Enter first number:\"))\n",
    "number2 = int(input(\"Enter second number:\"))\n",
    "\n",
    "if number1 % number2 == 0:\n",
    "    print(f\"{number1} is a multiple of {number2}\")\n",
    "else:\n",
    "    print(f\"{number1} is not a multiple of {number2}\")"
   ]
  },
  {
   "cell_type": "markdown",
   "metadata": {},
   "source": [
    "Ask the user three numbers. Display the greatest of these numbers.  \n",
    "\n",
    "``Enter first number: ``<span style=\"color:red; font-family:monospace; font-weight:bold\">17</span>  \n",
    "``Enter second number: ``<span style=\"color:red; font-family:monospace; font-weight:bold\">3</span>  \n",
    "``Enter third number: ``<span style=\"color:red; font-family:monospace; font-weight:bold\">12</span>  \n",
    "``Greatest: 17``  "
   ]
  },
  {
   "cell_type": "code",
   "execution_count": 58,
   "metadata": {},
   "outputs": [
    {
     "name": "stdout",
     "output_type": "stream",
     "text": [
      "Greatest: 17\n"
     ]
    }
   ],
   "source": [
    "number1 = int(input(\"Enter first number:\"))\n",
    "number2 = int(input(\"Enter second number:\"))\n",
    "number3 = int(input(\"Enter third number:\"))\n",
    "greatest = 0\n",
    "\n",
    "if number1 > number2 and number1 > number3:\n",
    "    greatest = number1\n",
    "elif number2 > number3:\n",
    "    greatest = number2\n",
    "else:\n",
    "    greatest = number3\n",
    "\n",
    "print(\"Greatest:\", greatest)"
   ]
  },
  {
   "attachments": {},
   "cell_type": "markdown",
   "metadata": {},
   "source": [
    "Ask the user her/his age. Display age category of the user.  \n",
    "\n",
    "underage = 0-17  \n",
    "youth = 18-65  \n",
    "middle-aged = 66-79  \n",
    "elderly = 80-99  \n",
    "long-lived elderly = 100-...  "
   ]
  },
  {
   "cell_type": "code",
   "execution_count": 64,
   "metadata": {},
   "outputs": [
    {
     "name": "stdout",
     "output_type": "stream",
     "text": [
      "Your age category: long-lived elderly\n"
     ]
    }
   ],
   "source": [
    "age = int(input(\"Enter your age:\"))\n",
    "age_category = \"\"\n",
    "\n",
    "if age < 0:\n",
    "    age_category = \"error\"\n",
    "elif age <= 17:\n",
    "    age_category = \"underage\"\n",
    "elif age <= 65:\n",
    "    age_category = \"youth\"\n",
    "elif age <= 79:\n",
    "    age_category = \"middle-aged\"\n",
    "elif age <= 99:\n",
    "    age_category = \"elderly\"\n",
    "else:\n",
    "    age_category = \"long-lived elderly\"\n",
    "\n",
    "print(\"Your age category:\", age_category)"
   ]
  },
  {
   "attachments": {},
   "cell_type": "markdown",
   "metadata": {},
   "source": [
    "Ask the user her/his height (m) and weight (kg). Display BMI value and category. (BMI = weight / height^2)  \n",
    "\n",
    "$BMI = \\frac{weight}{height^2}$\n",
    "\n",
    "Underweight = <18.5  \n",
    "Normal weight = [18.5, 25)  \n",
    "Overweight = 25-29.9  \n",
    "Obesity = >=30  \n",
    "\n",
    "``Enter your height (m): ``<span style=\"color:red; font-family:monospace; font-weight:bold\">1.62</span>  \n",
    "``Enter your weight (kg): ``<span style=\"color:red; font-family:monospace; font-weight:bold\">60</span>  \n",
    "``BMI value: 22.9``  \n",
    "``BMI category: Normal weight``  "
   ]
  },
  {
   "cell_type": "code",
   "execution_count": 65,
   "metadata": {},
   "outputs": [
    {
     "name": "stdout",
     "output_type": "stream",
     "text": [
      "BMI value: 22.86236854138088\n",
      "BMI category: normal weight\n"
     ]
    }
   ],
   "source": [
    "height = float(input(\"Enter your height (m):\"))\n",
    "weight = float(input(\"Enter your weight (kg):\"))\n",
    "bmi = weight / height ** 2\n",
    "category = \"\"\n",
    "\n",
    "if bmi < 18.5:\n",
    "    category = \"underweight\"\n",
    "elif bmi < 25:\n",
    "    category = \"normal weight\"\n",
    "elif bmi < 30:\n",
    "    category = \"overweight\"\n",
    "else:\n",
    "    category = \"obesity\"\n",
    "\n",
    "print(\"BMI value:\", bmi)\n",
    "print(\"BMI category:\", category)"
   ]
  },
  {
   "attachments": {},
   "cell_type": "markdown",
   "metadata": {},
   "source": [
    "Create a list of number from 1 to 5 and display the list in reverse order."
   ]
  },
  {
   "cell_type": "code",
   "execution_count": 69,
   "metadata": {},
   "outputs": [
    {
     "name": "stdout",
     "output_type": "stream",
     "text": [
      "[5, 4, 3, 2, 1]\n"
     ]
    }
   ],
   "source": [
    "numbers = [1, 2, 3, 4, 5]\n",
    "\n",
    "# print(numbers[::-1])\n",
    "# print(numbers)\n",
    "\n",
    "numbers.reverse()\n",
    "\n",
    "print(numbers)"
   ]
  },
  {
   "attachments": {},
   "cell_type": "markdown",
   "metadata": {},
   "source": [
    "Display the sum of all numbers in the given list."
   ]
  },
  {
   "cell_type": "code",
   "execution_count": 70,
   "metadata": {},
   "outputs": [
    {
     "name": "stdout",
     "output_type": "stream",
     "text": [
      "55\n"
     ]
    }
   ],
   "source": [
    "numbers = [7, 9, 5, 4, 10, 3, 2, 1, 6, 8]\n",
    "\n",
    "print(sum(numbers))"
   ]
  },
  {
   "attachments": {},
   "cell_type": "markdown",
   "metadata": {},
   "source": [
    "Display the average of all numbers in the given list."
   ]
  },
  {
   "cell_type": "code",
   "execution_count": 71,
   "metadata": {},
   "outputs": [
    {
     "name": "stdout",
     "output_type": "stream",
     "text": [
      "5.5\n"
     ]
    }
   ],
   "source": [
    "numbers = [7, 9, 5, 4, 10, 3, 2, 1, 6, 8]\n",
    "\n",
    "print(sum(numbers) / len(numbers))"
   ]
  },
  {
   "attachments": {},
   "cell_type": "markdown",
   "metadata": {},
   "source": [
    "Display the maximum and minimum value in the given list."
   ]
  },
  {
   "cell_type": "code",
   "execution_count": 72,
   "metadata": {},
   "outputs": [
    {
     "name": "stdout",
     "output_type": "stream",
     "text": [
      "Minimum: 1\n",
      "Maximum: 10\n"
     ]
    }
   ],
   "source": [
    "numbers = [7, 9, 5, 4, 10, 3, 2, 1, 6, 8]\n",
    "\n",
    "# min(list)\n",
    "# max(list)\n",
    "\n",
    "print(\"Minimum:\", min(numbers))\n",
    "print(\"Maximum:\", max(numbers))"
   ]
  },
  {
   "attachments": {},
   "cell_type": "markdown",
   "metadata": {},
   "source": [
    "Display elements with even indices of the given list."
   ]
  },
  {
   "cell_type": "code",
   "execution_count": 74,
   "metadata": {},
   "outputs": [
    {
     "name": "stdout",
     "output_type": "stream",
     "text": [
      "[7, 5, 10, 2, 6]\n",
      "[9, 4, 3, 1, 8]\n"
     ]
    }
   ],
   "source": [
    "numbers = [7, 9, 5, 4, 10, 3, 2, 1, 6, 8]\n",
    "\n",
    "print(numbers[::2])\n",
    "print(numbers[1::2])"
   ]
  },
  {
   "cell_type": "markdown",
   "metadata": {},
   "source": [
    "Display the sum of first and last element in the given list.  \n",
    "\n",
    "``Sum of first and last element: 15``"
   ]
  },
  {
   "cell_type": "code",
   "execution_count": 101,
   "metadata": {},
   "outputs": [
    {
     "name": "stdout",
     "output_type": "stream",
     "text": [
      "Sum of first and last elements:15\n"
     ]
    }
   ],
   "source": [
    "numbers = [7, 9, 5, 4, 10, 3, 2, 1, 6, 8]\n",
    "\n",
    "print(\"Sum of first and last elements:\", numbers[0] + numbers[-1])\n",
    "# print(\"Sum of first and last elements:\", numbers[0] + numbers[len(numbers) - 1])"
   ]
  },
  {
   "cell_type": "markdown",
   "metadata": {},
   "source": [
    "Write a program that asks the user to enter a word, and then prints whether the word is a palindrome (i.e., a word that is spelled the same backwards and forwards, such as \"racecar\")."
   ]
  },
  {
   "cell_type": "code",
   "execution_count": 83,
   "metadata": {},
   "outputs": [
    {
     "name": "stdout",
     "output_type": "stream",
     "text": [
      "This word is not a palindrom.\n"
     ]
    }
   ],
   "source": [
    "word = input(\"Enter a word:\")\n",
    "\n",
    "if word == word[::-1]:\n",
    "    print(\"This word is a palindrom.\")\n",
    "else:\n",
    "    print(\"This word is not a palindrom.\")"
   ]
  },
  {
   "cell_type": "markdown",
   "metadata": {},
   "source": [
    "Write a program that asks the user to enter a letter, and then prints whether the letter is a vowel or a consonant."
   ]
  },
  {
   "cell_type": "code",
   "execution_count": 90,
   "metadata": {},
   "outputs": [
    {
     "name": "stdout",
     "output_type": "stream",
     "text": [
      "This letter is a vowel.\n"
     ]
    }
   ],
   "source": [
    "# a, e, i, u, o\n",
    "letter = input(\"Enter a letter:\")\n",
    "vowels = [\"A\", \"E\", \"I\", \"O\", \"U\", \"a\", \"e\", \"i\", \"o\", \"u\"]\n",
    "vowels_as_string = \"AEIOUaeiou\"\n",
    "\n",
    "if letter in vowels_as_string:\n",
    "    print(\"This letter is a vowel.\")\n",
    "else:\n",
    "    print(\"This letter is a consonant.\")"
   ]
  },
  {
   "attachments": {},
   "cell_type": "markdown",
   "metadata": {},
   "source": [
    "Ask the user a number. If the number is in the given list, the program should remove the number from the list and display the new list.  \n",
    "If the number is not in the list, the program should print \"Number not found in list\"."
   ]
  },
  {
   "cell_type": "code",
   "execution_count": 94,
   "metadata": {},
   "outputs": [
    {
     "name": "stdout",
     "output_type": "stream",
     "text": [
      "[9, 5, 4, 10, 3, 2, 1, 6, 8]\n"
     ]
    }
   ],
   "source": [
    "numbers = [7, 9, 5, 4, 10, 3, 2, 1, 6, 8]\n",
    "\n",
    "number = int(input(\"Enter an integer:\"))\n",
    "\n",
    "if number in numbers:\n",
    "    numbers.remove(number)\n",
    "    print(numbers)\n",
    "else:\n",
    "    print(\"Number not found in list.\")"
   ]
  },
  {
   "cell_type": "code",
   "execution_count": 112,
   "metadata": {},
   "outputs": [
    {
     "name": "stdout",
     "output_type": "stream",
     "text": [
      "***************************************************\n",
      "*                                                 *\n",
      "*                                                 *\n",
      "*                     Hello!                      *\n",
      "*                                                 *\n",
      "*                                                 *\n",
      "***************************************************\n"
     ]
    }
   ],
   "source": [
    "\"\"\"\n",
    "Create a greeting card: create a border on the page, and center the text horizontally and vertically.\n",
    "(If the number of horizontal spaces around the text or number of blank lines is an odd number, then the text should lean on one side.)\n",
    "\n",
    "Red texts indicate the user inputs.\n",
    "\n",
    "Text: Hello!\n",
    "Width: 50\n",
    "Height: 7\n",
    "Border character: *\n",
    "\n",
    "height >= 3\n",
    "width >= len(text) + 2\n",
    "len(border_char) == 1\n",
    "\n",
    "**************************************************\n",
    "*                                                *\n",
    "*                                                *\n",
    "*                     Hello!                     *\n",
    "*                                                *\n",
    "*                                                *\n",
    "**************************************************\n",
    "\n",
    "You can (and should) use string concatenation and multiplication, and newline character \"\\n\". \n",
    "Do you see the potentially concatenated and multiplied strings on the output? \n",
    "Different parts were concatenated (something like left, middle and right parts of a line) and repeated parts (border characters, spaces, and even whole lines) were multiplied. \n",
    "Fully understand our simplified example from the lesson.\n",
    "\"\"\"\n",
    "\n",
    "text = input(\"Text:\")\n",
    "width = int(input(\"Width:\"))\n",
    "height = int(input(\"Height:\"))\n",
    "border_char = input(\"Border character:\")\n",
    "\n",
    "empty_row = border_char + \" \" * (width - 2) + border_char + \"\\n\"\n",
    "\n",
    "print(border_char * width)\n",
    "\n",
    "print(empty_row * ((height - 3) // 2), end=\"\")\n",
    "\n",
    "print(border_char + \" \" * ((width - 2 - len(text)) // 2) + text + \" \" * ((width - 2 - len(text)) // 2 + (width - 2 - len(text)) % 2) + border_char)\n",
    "\n",
    "\n",
    "# if (height - 3) % 2 == 1:\n",
    "#     print(empty_row * ((height - 3) // 2 + 1), end=\"\")\n",
    "# else:\n",
    "#     print(empty_row * ((height - 3) // 2), end=\"\")\n",
    "\n",
    "print(empty_row * ((height - 3) // 2 + (height - 3) % 2), end=\"\")\n",
    "\n",
    "print(border_char * width)"
   ]
  }
 ],
 "metadata": {
  "kernelspec": {
   "display_name": "Python 3.10.5 64-bit",
   "language": "python",
   "name": "python3"
  },
  "language_info": {
   "codemirror_mode": {
    "name": "ipython",
    "version": 3
   },
   "file_extension": ".py",
   "mimetype": "text/x-python",
   "name": "python",
   "nbconvert_exporter": "python",
   "pygments_lexer": "ipython3",
   "version": "3.10.5 (tags/v3.10.5:f377153, Jun  6 2022, 16:14:13) [MSC v.1929 64 bit (AMD64)]"
  },
  "orig_nbformat": 4,
  "vscode": {
   "interpreter": {
    "hash": "d7cdd4bd10924f2a5600f3e3f8ff8c4f45ce4e033c01be5511cc2e78bc05c683"
   }
  }
 },
 "nbformat": 4,
 "nbformat_minor": 2
}
