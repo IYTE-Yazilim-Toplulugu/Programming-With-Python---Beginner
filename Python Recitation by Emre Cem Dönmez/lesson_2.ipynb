{
 "cells": [
  {
   "cell_type": "markdown",
   "metadata": {},
   "source": [
    "Write a program that asks the user to enter two numbers, and then prints the larger of the two numbers.  \n",
    "\n",
    "``Enter first number: ``<span style=\"color:red; font-family:monospace; font-weight:bold\">11</span>  \n",
    "``Enter second number: ``<span style=\"color:red; font-family:monospace; font-weight:bold\">26</span>    \n",
    "``Greatest: 26``  "
   ]
  },
  {
   "cell_type": "code",
   "execution_count": null,
   "metadata": {},
   "outputs": [],
   "source": []
  },
  {
   "cell_type": "markdown",
   "metadata": {},
   "source": [
    "Ask the user a number and display this number is whether positive, negative or unsigned.  \n",
    "\n",
    "``Enter an integer: ``<span style=\"color:red; font-family:monospace; font-weight:bold\">8</span>  \n",
    "``The number is positive.``"
   ]
  },
  {
   "cell_type": "code",
   "execution_count": null,
   "metadata": {},
   "outputs": [],
   "source": []
  },
  {
   "attachments": {},
   "cell_type": "markdown",
   "metadata": {},
   "source": [
    "Ask the user a number and display abstract value of this number.  \n",
    "\n",
    "``Enter a number: ``<span style=\"color:red; font-family:monospace; font-weight:bold\">-15</span>  \n",
    "``Abstract value of this number: 15``"
   ]
  },
  {
   "cell_type": "code",
   "execution_count": null,
   "metadata": {},
   "outputs": [],
   "source": []
  },
  {
   "cell_type": "markdown",
   "metadata": {},
   "source": [
    "Ask the user a number and display this number is whether odd or even.  \n",
    "\n",
    "``Enter an integer: ``<span style=\"color:red; font-family:monospace; font-weight:bold\">8</span>  \n",
    "``The number is even``"
   ]
  },
  {
   "cell_type": "code",
   "execution_count": null,
   "metadata": {},
   "outputs": [],
   "source": []
  },
  {
   "cell_type": "markdown",
   "metadata": {},
   "source": [
    "Ask the user a number and display this number is whether a multiple of 3 or not.  \n",
    "\n",
    "``Enter a number: ``<span style=\"color:red; font-family:monospace; font-weight:bold\">8</span>  \n",
    "``The number is not a multiple of 3.``"
   ]
  },
  {
   "cell_type": "code",
   "execution_count": null,
   "metadata": {},
   "outputs": [],
   "source": []
  },
  {
   "cell_type": "markdown",
   "metadata": {},
   "source": [
    "Ask the user two numbers and display first number is whether a multiple of second number or not.  \n",
    "\n",
    "``Enter first number: ``<span style=\"color:red; font-family:monospace; font-weight:bold\">15</span>  \n",
    "``Enter second number: ``<span style=\"color:red; font-family:monospace; font-weight:bold\">5</span>  \n",
    "``15 is a multiple of 5.``"
   ]
  },
  {
   "cell_type": "code",
   "execution_count": null,
   "metadata": {},
   "outputs": [],
   "source": []
  },
  {
   "cell_type": "markdown",
   "metadata": {},
   "source": [
    "Ask the user three numbers. Display the greatest of these numbers.  \n",
    "\n",
    "``Enter first number: ``<span style=\"color:red; font-family:monospace; font-weight:bold\">17</span>  \n",
    "``Enter second number: ``<span style=\"color:red; font-family:monospace; font-weight:bold\">3</span>  \n",
    "``Enter third number: ``<span style=\"color:red; font-family:monospace; font-weight:bold\">12</span>  \n",
    "``Greatest: 17``  "
   ]
  },
  {
   "cell_type": "code",
   "execution_count": null,
   "metadata": {},
   "outputs": [],
   "source": []
  },
  {
   "attachments": {},
   "cell_type": "markdown",
   "metadata": {},
   "source": [
    "Ask the user her/his age. Display age category of the user.  \n",
    "\n",
    "underage = 0-17  \n",
    "youth = 18-65  \n",
    "middle-aged = 66-79  \n",
    "elderly = 80-99  \n",
    "long-lived elderly = 100-...  "
   ]
  },
  {
   "cell_type": "code",
   "execution_count": null,
   "metadata": {},
   "outputs": [],
   "source": []
  },
  {
   "attachments": {},
   "cell_type": "markdown",
   "metadata": {},
   "source": [
    "Ask the user her/his height (m) and weight (kg). Display BMI value and category. (BMI = weight / height^2)  \n",
    "\n",
    "$BMI = \\frac{weight}{height^2}$\n",
    "\n",
    "Underweight = <18.5  \n",
    "Normal weight = [18.5, 25)  \n",
    "Overweight = 25-29.9  \n",
    "Obesity = >=30  \n",
    "\n",
    "``Enter your height (m): ``<span style=\"color:red; font-family:monospace; font-weight:bold\">1.62</span>  \n",
    "``Enter your weight (kg): ``<span style=\"color:red; font-family:monospace; font-weight:bold\">60</span>  \n",
    "``BMI value: 22.9``  \n",
    "``BMI category: Normal weight``  "
   ]
  },
  {
   "cell_type": "code",
   "execution_count": null,
   "metadata": {},
   "outputs": [],
   "source": []
  },
  {
   "attachments": {},
   "cell_type": "markdown",
   "metadata": {},
   "source": [
    "Create a list of number from 1 to 5 and display the list in reverse order."
   ]
  },
  {
   "cell_type": "code",
   "execution_count": null,
   "metadata": {},
   "outputs": [],
   "source": []
  },
  {
   "attachments": {},
   "cell_type": "markdown",
   "metadata": {},
   "source": [
    "Display the sum of all numbers in the given list."
   ]
  },
  {
   "cell_type": "code",
   "execution_count": null,
   "metadata": {},
   "outputs": [],
   "source": []
  },
  {
   "attachments": {},
   "cell_type": "markdown",
   "metadata": {},
   "source": [
    "Display the average of all numbers in the given list."
   ]
  },
  {
   "cell_type": "code",
   "execution_count": null,
   "metadata": {},
   "outputs": [],
   "source": []
  },
  {
   "attachments": {},
   "cell_type": "markdown",
   "metadata": {},
   "source": [
    "Display the maximum and minimum value in the given list."
   ]
  },
  {
   "cell_type": "code",
   "execution_count": null,
   "metadata": {},
   "outputs": [],
   "source": []
  },
  {
   "attachments": {},
   "cell_type": "markdown",
   "metadata": {},
   "source": [
    "Display elements with even indices of the given list."
   ]
  },
  {
   "cell_type": "code",
   "execution_count": null,
   "metadata": {},
   "outputs": [],
   "source": []
  },
  {
   "cell_type": "markdown",
   "metadata": {},
   "source": [
    "Display the sum of first and last element in the given list.  \n",
    "\n",
    "``Sum of first and last element: 15``"
   ]
  },
  {
   "cell_type": "code",
   "execution_count": null,
   "metadata": {},
   "outputs": [],
   "source": []
  },
  {
   "cell_type": "markdown",
   "metadata": {},
   "source": [
    "Write a program that asks the user to enter a word, and then prints whether the word is a palindrome (i.e., a word that is spelled the same backwards and forwards, such as \"racecar\")."
   ]
  },
  {
   "cell_type": "code",
   "execution_count": null,
   "metadata": {},
   "outputs": [],
   "source": []
  },
  {
   "cell_type": "markdown",
   "metadata": {},
   "source": [
    "Write a program that asks the user to enter a letter, and then prints whether the letter is a vowel or a consonant."
   ]
  },
  {
   "cell_type": "code",
   "execution_count": null,
   "metadata": {},
   "outputs": [],
   "source": []
  },
  {
   "attachments": {},
   "cell_type": "markdown",
   "metadata": {},
   "source": [
    "Ask the user a number. If the number is in the given list, the program should remove the number from the list and display the new list.  \n",
    "If the number is not in the list, the program should print \"Number not found in list\"."
   ]
  },
  {
   "cell_type": "code",
   "execution_count": null,
   "metadata": {},
   "outputs": [],
   "source": []
  },
  {
   "cell_type": "code",
   "execution_count": null,
   "metadata": {},
   "outputs": [],
   "source": [
    "\"\"\"\n",
    "Create a greeting card: create a border on the page, and center the text horizontally and vertically.\n",
    "(If the number of horizontal spaces around the text or number of blank lines is an odd number, then the text should lean on one side.)\n",
    "\n",
    "Red texts indicate the user inputs.\n",
    "\n",
    "Text: Hello!\n",
    "Width: 50\n",
    "Height: 7\n",
    "Border character: *\n",
    "\n",
    "height >= 3\n",
    "width >= len(text) + 2\n",
    "len(border_char) == 1\n",
    "\n",
    "**************************************************\n",
    "*                                                *\n",
    "*                                                *\n",
    "*                     Hello!                     *\n",
    "*                                                *\n",
    "*                                                *\n",
    "**************************************************\n",
    "\n",
    "You can (and should) use string concatenation and multiplication, and newline character \"\\n\". \n",
    "Do you see the potentially concatenated and multiplied strings on the output? \n",
    "Different parts were concatenated (something like left, middle and right parts of a line) and repeated parts (border characters, spaces, and even whole lines) were multiplied. \n",
    "Fully understand our simplified example from the lesson.\n",
    "\"\"\""
   ]
  }
 ],
 "metadata": {
  "kernelspec": {
   "display_name": "Python 3.10.5 64-bit",
   "language": "python",
   "name": "python3"
  },
  "language_info": {
   "codemirror_mode": {
    "name": "ipython",
    "version": 3
   },
   "file_extension": ".py",
   "mimetype": "text/x-python",
   "name": "python",
   "nbconvert_exporter": "python",
   "pygments_lexer": "ipython3",
   "version": "3.10.5 (tags/v3.10.5:f377153, Jun  6 2022, 16:14:13) [MSC v.1929 64 bit (AMD64)]"
  },
  "orig_nbformat": 4,
  "vscode": {
   "interpreter": {
    "hash": "d7cdd4bd10924f2a5600f3e3f8ff8c4f45ce4e033c01be5511cc2e78bc05c683"
   }
  }
 },
 "nbformat": 4,
 "nbformat_minor": 2
}
