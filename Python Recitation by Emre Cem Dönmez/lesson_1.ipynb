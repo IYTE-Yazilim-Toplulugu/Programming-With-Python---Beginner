{
 "cells": [
  {
   "cell_type": "markdown",
   "metadata": {},
   "source": [
    "Read two numbers, then print the sum of these two numbers (When you run the code, you should write something and hit “Enter” as the user.  \n",
    "You do this not on the editor, but on the console):"
   ]
  },
  {
   "cell_type": "code",
   "execution_count": null,
   "metadata": {},
   "outputs": [],
   "source": []
  },
  {
   "cell_type": "markdown",
   "metadata": {},
   "source": [
    "Ask the name of the user. Greet the user in Turkish language."
   ]
  },
  {
   "cell_type": "code",
   "execution_count": null,
   "metadata": {},
   "outputs": [],
   "source": []
  },
  {
   "cell_type": "markdown",
   "metadata": {},
   "source": [
    "Ask user a number and display the square root of this number (Note that $x^{0.5}$ is equivalent to square root of $x$)."
   ]
  },
  {
   "cell_type": "code",
   "execution_count": null,
   "metadata": {},
   "outputs": [],
   "source": []
  },
  {
   "cell_type": "markdown",
   "metadata": {},
   "source": [
    "Solve a linear equation with one variable:"
   ]
  },
  {
   "cell_type": "code",
   "execution_count": null,
   "metadata": {},
   "outputs": [],
   "source": []
  },
  {
   "cell_type": "markdown",
   "metadata": {},
   "source": [
    "Ask the user what year they were born and print how old they are (Assume we are in 2022. Don’t consider the month).  \n",
    "\n",
    "For example:  \n",
    "\n",
    "``What year were you born? ``<span style=\"color:red; font-family:monospace; font-weight:bold\">2000</span>  \n",
    "``So you are 22 years old.``  \n"
   ]
  },
  {
   "cell_type": "code",
   "execution_count": null,
   "metadata": {},
   "outputs": [],
   "source": []
  },
  {
   "cell_type": "markdown",
   "metadata": {},
   "source": [
    "Ask the user for 3 numbers. Display the arithmetic mean (=average) of these numbers.  \n",
    "\n",
    "For example:  \n",
    "\n",
    "``Enter a number: ``<span style=\"color:red; font-family:monospace; font-weight:bold\">5</span>  \n",
    "``Enter another number: ``<span style=\"color:red; font-family:monospace; font-weight:bold\">5.5</span>  \n",
    "``Enter one more number: ``<span style=\"color:red; font-family:monospace; font-weight:bold\">1.5</span>  \n",
    "``The average of these numbers: 4.0``  "
   ]
  },
  {
   "cell_type": "code",
   "execution_count": null,
   "metadata": {},
   "outputs": [],
   "source": []
  },
  {
   "cell_type": "markdown",
   "metadata": {},
   "source": [
    "Ask the user for their homework, midterm and final grades. Calculate their course grade which is a weighted average of all these grades  \n",
    "(Weights: 10% for homeworks, 30% for midterm exam and 60% for final exam).  \n",
    "\n",
    "For example:  \n",
    "\n",
    "``Enter your homework grade: ``<span style=\"color:red; font-family:monospace; font-weight:bold\">100</span>  \n",
    "``Enter your midterm exam grade: ``<span style=\"color:red; font-family:monospace; font-weight:bold\">50</span>  \n",
    "``Enter your final exam grade: ``<span style=\"color:red; font-family:monospace; font-weight:bold\">60</span>  \n",
    "``Your course grade: 61.0``  \n"
   ]
  },
  {
   "cell_type": "code",
   "execution_count": null,
   "metadata": {},
   "outputs": [],
   "source": []
  },
  {
   "cell_type": "markdown",
   "metadata": {},
   "source": [
    "Calculate the following mathematical expression (There is no user input):  \n",
    "\n",
    "$\\Large\\frac{(2x+y)^2\\sqrt{z}}{\\sqrt{x}\\sqrt{y}}$  \n",
    "\n",
    "when $x = 1$, $y = 4$ and $z = 0.25$.  \n"
   ]
  },
  {
   "cell_type": "code",
   "execution_count": null,
   "metadata": {},
   "outputs": [],
   "source": []
  },
  {
   "cell_type": "markdown",
   "metadata": {},
   "source": [
    "Ask the user for temperature in Celsius and print it in Fahrenheit (e.g. If the input is 30.0, the output should be 86.0)."
   ]
  },
  {
   "cell_type": "code",
   "execution_count": null,
   "metadata": {},
   "outputs": [],
   "source": []
  },
  {
   "cell_type": "markdown",
   "metadata": {},
   "source": [
    "Ask the user for the side lengths of a right triangle and display the length of the hypotenuse (e.g. if the inputs are 3.0 and 4.0, the result should be 5.0)."
   ]
  },
  {
   "cell_type": "code",
   "execution_count": null,
   "metadata": {},
   "outputs": [],
   "source": []
  },
  {
   "cell_type": "markdown",
   "metadata": {},
   "source": [
    "Ask the user for seconds and display the corresponding number of days, hours, minutes and seconds.  \n",
    "\n",
    "``Enter seconds: ``<span style=\"color:red; font-family:monospace; font-weight:bold\">3800</span>  \n",
    "``3800 seconds = 0 days 1 hours 3 minutes 20 seconds``"
   ]
  },
  {
   "cell_type": "code",
   "execution_count": null,
   "metadata": {},
   "outputs": [],
   "source": []
  },
  {
   "cell_type": "markdown",
   "metadata": {},
   "source": [
    "Ask the user for the radius length of a circle and display four values:  \n",
    "1. the area of that circle,  \n",
    "2. the circumference of that circle,  \n",
    "3. the area of the smallest square that covers this circle,  \n",
    "4. the area of the largest square that can fit inside this circle.  "
   ]
  },
  {
   "cell_type": "code",
   "execution_count": null,
   "metadata": {},
   "outputs": [],
   "source": []
  },
  {
   "cell_type": "markdown",
   "metadata": {},
   "source": [
    "Ask the user for the radii (r1 and r2) of two tangent circles and calculate the blue area shown below (The surrounding circle is the smallest circle that covers both of these two circles).  \n",
    "\n",
    "<img src=\"circle.png\"/>"
   ]
  },
  {
   "cell_type": "code",
   "execution_count": null,
   "metadata": {},
   "outputs": [],
   "source": []
  }
 ],
 "metadata": {
  "kernelspec": {
   "display_name": "Python 3.10.5 64-bit",
   "language": "python",
   "name": "python3"
  },
  "language_info": {
   "codemirror_mode": {
    "name": "ipython",
    "version": 3
   },
   "file_extension": ".py",
   "mimetype": "text/x-python",
   "name": "python",
   "nbconvert_exporter": "python",
   "pygments_lexer": "ipython3",
   "version": "3.10.5"
  },
  "orig_nbformat": 4,
  "vscode": {
   "interpreter": {
    "hash": "d7cdd4bd10924f2a5600f3e3f8ff8c4f45ce4e033c01be5511cc2e78bc05c683"
   }
  }
 },
 "nbformat": 4,
 "nbformat_minor": 2
}
