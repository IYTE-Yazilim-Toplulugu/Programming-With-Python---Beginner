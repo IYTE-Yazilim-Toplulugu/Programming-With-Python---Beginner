{
 "cells": [
  {
   "cell_type": "markdown",
   "id": "ba1dfe71",
   "metadata": {},
   "source": [
    "\n",
    "## Lecture 4 outline\n",
    "- Functions\n",
    "- File I/O operations\n",
    "\n",
    "Course materials: https://nbviewer.org/github/Python-Crash-Course/Python101/tree/master/ & https://automatetheboringstuff.com/"
   ]
  },
  {
   "cell_type": "markdown",
   "id": "f2d06ed3",
   "metadata": {
    "cell_style": "center"
   },
   "source": [
    "\n",
    "# Functions\n",
    "A **function** is a block of code that is first defined, and thereafter can be called to run as many times as needed. A function might have arguments, some of which can be optional if a default value is specified.\n",
    "\n",
    "A function is called by parentheses: `function_name()`. Arguments are placed inside the parentehes and comma separated if there are more than one.\n",
    "Similar to `f(x, y)` from mathematics.\n",
    "\n",
    "A function can return one or more values to the caller. The values to return are put in the `return` statement. When the code hits a `return` statement the function terminates. If no `return` statement is given, the function will return `None`.\n",
    "\n",
    "The general syntax of a function is:\n",
    "\n",
    "~~~python\n",
    "def function_name(arg1, arg2, default_arg1=0, default_arg2=None):\n",
    "    '''This is the docstring \n",
    "    \n",
    "    The docstring explains what the function does, so it is like a multiline comment. It does not have to be here, \n",
    "    but it is good practice to use them to document the code. They are especially useful for more complicated \n",
    "    functions, although functions should in general be kept as simple as possible.\n",
    "    Arguments could be explained together with their types (e.g. strings, lists, dicts etc.).\n",
    "    '''\n",
    "    \n",
    "    # Function code goes here\n",
    "    \n",
    "    # Possible 'return' statement terminating the function. If 'return' is not specified, function returns None.\n",
    "    return return_val1, return_val2\n",
    "~~~\n",
    "\n",
    "If multiple values are to be returned, they can be separated by commas as shown. The returned entity will by default be a `tuple`.\n",
    "\n",
    "Note that when using default arguments, it is good practice to only use immutable types. An example further below will demonstrate why this is recommended. \n",
    "\n"
   ]
  },
  {
   "cell_type": "markdown",
   "id": "de449393",
   "metadata": {},
   "source": [
    "## Basic functions\n",
    "A simple function with one argument is defined below."
   ]
  },
  {
   "cell_type": "code",
   "execution_count": null,
   "id": "802517db",
   "metadata": {},
   "outputs": [],
   "source": [
    "def f(x):\n",
    "    return 6.25 + x + x**2"
   ]
  },
  {
   "cell_type": "markdown",
   "id": "2c6f7c04",
   "metadata": {},
   "source": [
    ">**Note:** No code has been executed yet. It has merely been defined so it's ready to run when the function is called.\n",
    "\n",
    "Calling the function with the argument `5` returns:"
   ]
  },
  {
   "cell_type": "code",
   "execution_count": null,
   "id": "46f9a81f",
   "metadata": {},
   "outputs": [],
   "source": [
    "a = f(5)"
   ]
  },
  {
   "cell_type": "code",
   "execution_count": null,
   "id": "910ca83d",
   "metadata": {},
   "outputs": [],
   "source": [
    "a == 36.25"
   ]
  },
  {
   "cell_type": "markdown",
   "id": "9773c626",
   "metadata": {},
   "source": [
    "If we define a function without returning anything, it returns `None`:"
   ]
  },
  {
   "cell_type": "code",
   "execution_count": null,
   "id": "00777080",
   "metadata": {},
   "outputs": [],
   "source": [
    "def first_char(word):\n",
    "    return word[0]    # <--- No return statement, function returns None\n",
    "    \n",
    "    \n",
    "# Variable a will be equal to None\n",
    "a = first_char('hello')   \n",
    "\n",
    "# Printing the returned value\n",
    "print(a)"
   ]
  },
  {
   "cell_type": "markdown",
   "id": "f4c2438a",
   "metadata": {},
   "source": [
    "Often a return value is wanted from a function, but there could be scenarios where it is not wanted. E.g. if you want to mutate a list by the function. Consider this example:"
   ]
  },
  {
   "cell_type": "code",
   "execution_count": null,
   "id": "b4ef252d",
   "metadata": {},
   "outputs": [],
   "source": [
    "def say_hello_to(name):\n",
    "    ''' Say hello to the input name  '''\n",
    "    print(f'Hello {name}')\n",
    "    \n",
    "\n",
    "say_hello_to('Anders')      # <--- Calling the function prints 'Hello {name}'\n",
    "\n",
    "r = say_hello_to('Anders')  # <--- Calling the function prints 'Hello {name}' and assigns None to r\n",
    "\n",
    "print(r)                    # <--- Prints None, since function had no return statement "
   ]
  },
  {
   "cell_type": "markdown",
   "id": "f8e3c502",
   "metadata": {},
   "source": [
    "The function was still useful even though it did not return anything. Another example could be a function that creates a plot instead of returning a value."
   ]
  },
  {
   "cell_type": "code",
   "execution_count": null,
   "id": "a84ece98",
   "metadata": {},
   "outputs": [],
   "source": [
    "def say_hello(name):\n",
    "    print('Hello, ' + name)"
   ]
  },
  {
   "cell_type": "code",
   "execution_count": null,
   "id": "634a1b39",
   "metadata": {},
   "outputs": [],
   "source": [
    "say_hello(\"Alice\")"
   ]
  },
  {
   "cell_type": "code",
   "execution_count": null,
   "id": "bb0884e8",
   "metadata": {},
   "outputs": [],
   "source": [
    "def evenOdd(x):\n",
    "    if (x % 2 == 0):\n",
    "        print(\"even\")\n",
    "    else:\n",
    "        print(\"odd\")"
   ]
  },
  {
   "cell_type": "code",
   "execution_count": null,
   "id": "769c045f",
   "metadata": {},
   "outputs": [],
   "source": [
    "evenOdd(2525)"
   ]
  },
  {
   "cell_type": "code",
   "execution_count": null,
   "id": "bb0ede9f",
   "metadata": {},
   "outputs": [],
   "source": [
    "date = input(\"Whose birthday?\")\n",
    "if date == \"Fred_birthday\":\n",
    "    print(\"Happy birthday to you!\")\n",
    "    print(\"Happy birthday to you!\")\n",
    "    print(\"Happy birthday, dear Fred...\")\n",
    "    print(\"Happy birthday to you!\")\n",
    "elif date == \"Alex_birthday\":\n",
    "    print(\"Happy birthday to you!\")\n",
    "    print(\"Happy birthday to you!\")\n",
    "    print(\"Happy birthday, dear Alex...\")\n",
    "    print(\"Happy birthday to you!\")\n",
    "elif date == \"Lucy_birthday\":\n",
    "    print(\"Happy birthday to you!\")\n",
    "    print(\"Happy birthday to you!\")\n",
    "    print(\"Happy birthday, dear Lucy...\") \n",
    "    print(\"Happy birthday to you!\")"
   ]
  },
  {
   "cell_type": "code",
   "execution_count": null,
   "id": "b06401c6",
   "metadata": {},
   "outputs": [],
   "source": [
    "def happy():\n",
    "    print(\"Happy birthday to you!\")"
   ]
  },
  {
   "cell_type": "code",
   "execution_count": null,
   "id": "ca2d17dd",
   "metadata": {},
   "outputs": [],
   "source": [
    "date"
   ]
  },
  {
   "cell_type": "code",
   "execution_count": null,
   "id": "59d52712",
   "metadata": {},
   "outputs": [],
   "source": [
    "if date == \"Fred_birthday\":\n",
    "    happy()\n",
    "    happy()\n",
    "    print(\"Happy birthday, dear Fred...\")\n",
    "    happy()\n",
    "elif date == \"Alex_birthday\":\n",
    "    happy() \n",
    "    happy() \n",
    "    print(\"Happy birthday, dear Alex...\")\n",
    "    happy()\n",
    "elif date == \"Lucy_birthday\":\n",
    "    happy() \n",
    "    happy() \n",
    "    print(\"Happy birthday, dear Lucy...\") \n",
    "    happy()"
   ]
  },
  {
   "cell_type": "code",
   "execution_count": null,
   "id": "152abdfb",
   "metadata": {},
   "outputs": [],
   "source": [
    "def sing(person):\n",
    "    happy()\n",
    "    happy()\n",
    "    print(\"Happy birthday, dear\", person + \"...\")\n",
    "    happy()"
   ]
  },
  {
   "cell_type": "code",
   "execution_count": null,
   "id": "35fd7fd9",
   "metadata": {},
   "outputs": [],
   "source": [
    "if date == \"Fred_birthday\":\n",
    "    sing(\"Fred\")\n",
    "elif date == \"Alex_birthday\":\n",
    "    sing(\"Alex\")\n",
    "elif date == \"Lucy_birthday\":\n",
    "    sing(\"Lucy\")"
   ]
  },
  {
   "cell_type": "code",
   "execution_count": null,
   "id": "91fa3cbf",
   "metadata": {},
   "outputs": [],
   "source": []
  },
  {
   "cell_type": "code",
   "execution_count": null,
   "id": "01ec7686",
   "metadata": {},
   "outputs": [],
   "source": [
    "def multiply(num1, num2):\n",
    "    return num1 * num2"
   ]
  },
  {
   "cell_type": "code",
   "execution_count": null,
   "id": "5d6a071d",
   "metadata": {},
   "outputs": [],
   "source": [
    "multi = multiply(183837,5786968685868585998686*10**3000)"
   ]
  },
  {
   "cell_type": "code",
   "execution_count": null,
   "id": "0bfd3bcf",
   "metadata": {},
   "outputs": [],
   "source": [
    "print(multi)"
   ]
  },
  {
   "cell_type": "markdown",
   "id": "84c73036",
   "metadata": {},
   "source": [
    "### Password Generator"
   ]
  },
  {
   "cell_type": "code",
   "execution_count": null,
   "id": "ee61df5a",
   "metadata": {},
   "outputs": [],
   "source": [
    "import string"
   ]
  },
  {
   "cell_type": "code",
   "execution_count": null,
   "id": "00292ce0",
   "metadata": {},
   "outputs": [],
   "source": [
    "chars=string.ascii_letters + string.digits + string.punctuation"
   ]
  },
  {
   "cell_type": "code",
   "execution_count": null,
   "id": "240faa88",
   "metadata": {},
   "outputs": [],
   "source": [
    "chars"
   ]
  },
  {
   "cell_type": "code",
   "execution_count": null,
   "id": "92e500cf",
   "metadata": {},
   "outputs": [],
   "source": [
    "import string\n",
    "import random\n",
    "\n",
    "def pw_generate(size = 8, chars=string.ascii_letters + string.digits + string.punctuation):\n",
    "    return print(\"Your password is: \" + ''.join(random.choice(chars) for _ in range(size)))\n",
    "\n",
    "print(pw_generate(int(input('How many characters in your password?:\\n'))))"
   ]
  },
  {
   "cell_type": "markdown",
   "id": "7545a8ad",
   "metadata": {},
   "source": [
    "## Examples of built-in functions\n",
    "### Using `enumerate` for looping in index/value pairs\n",
    "The built-in `enumerate` is useful when you want to loop over an iterable together with the index of each of its elements:"
   ]
  },
  {
   "cell_type": "code",
   "execution_count": null,
   "id": "87dccb0f",
   "metadata": {},
   "outputs": [],
   "source": [
    "# Define a list of strings\n",
    "letters = ['a', 'b', 'c', 'd', 'c']"
   ]
  },
  {
   "cell_type": "code",
   "execution_count": null,
   "id": "b71cee86",
   "metadata": {},
   "outputs": [],
   "source": [
    "# Define a list of strings\n",
    "letters = ['a', 'b', 'c', 'd', 'c']\n",
    "\n",
    "# Loop over index and elements in pairs\n",
    "for idx, letter in enumerate(letters):\n",
    "    print(idx, letter)"
   ]
  },
  {
   "cell_type": "code",
   "execution_count": null,
   "id": "52823912",
   "metadata": {},
   "outputs": [],
   "source": [
    "enumerate?"
   ]
  },
  {
   "cell_type": "code",
   "execution_count": null,
   "id": "9a4521b1",
   "metadata": {},
   "outputs": [],
   "source": [
    "# Starting at 1 (internally, enumerate has start=0 set as default)\n",
    "for idx, letter in enumerate(letters, start=1):   \n",
    "    print(idx, letter)"
   ]
  },
  {
   "cell_type": "markdown",
   "id": "351593f2",
   "metadata": {},
   "source": [
    "`enumerate` solves a commonly encountered scenario, i.e. looping in index/value pairs. \n",
    "\n",
    "Similar functionality could be obtained by looping over the index and indexing the list value inside each loop (**Not recommended**): "
   ]
  },
  {
   "cell_type": "code",
   "execution_count": null,
   "id": "a8fa9ae0",
   "metadata": {},
   "outputs": [],
   "source": [
    "# Loop over index and elements in pairs\n",
    "for i in range(len(letters)):\n",
    "    print(i, letters[i])"
   ]
  },
  {
   "cell_type": "markdown",
   "id": "de936a0a",
   "metadata": {},
   "source": [
    "The Pythonic way is to use `enumerate` in this scenario since most people find it more readable.  "
   ]
  },
  {
   "cell_type": "markdown",
   "id": "73e88707",
   "metadata": {},
   "source": [
    "### Using `zip` for looping over multiple iterables\n",
    "The built-in `zip`is useful when you want to put two lists up beside each other and loop over them element by element in pairs."
   ]
  },
  {
   "cell_type": "code",
   "execution_count": null,
   "id": "a451272a",
   "metadata": {},
   "outputs": [],
   "source": [
    "# Define a list of circle diameters\n",
    "diameters = [10, 12, 16, 20, 25]                    \n",
    "\n",
    "# Compute circle area by list comprehension\n",
    "areas = [3.14 * (d/2)**2 for d in diameters]\n",
    "\n",
    "# Print (diameter, area) pairs\n",
    "for d, A in zip(diameters, areas):\n",
    "    print(d, A)"
   ]
  },
  {
   "cell_type": "markdown",
   "id": "c48370b7",
   "metadata": {},
   "source": [
    "`zip` can be used for more than two iterables:"
   ]
  },
  {
   "cell_type": "code",
   "execution_count": null,
   "id": "37aa9169",
   "metadata": {},
   "outputs": [],
   "source": [
    "# Use zip with three strings\n",
    "for x, y, z in zip('abc', 'hij', 'opq'):\n",
    "    print(x, y, z)"
   ]
  },
  {
   "cell_type": "markdown",
   "id": "b56b0c2a",
   "metadata": {},
   "source": [
    "`zip` stops when the shortest iterable is exhausted. So if `c` is removed from the first string in the example above, we have iterables of lengths 2, 3 and 3. \n",
    "\n",
    "Thus, only two iterations are performed:"
   ]
  },
  {
   "cell_type": "code",
   "execution_count": null,
   "id": "c678b3d6",
   "metadata": {},
   "outputs": [],
   "source": [
    "# Use zip with three strings\n",
    "for x, y, z in zip('ab', 'hij', 'opq'):\n",
    "    print(x, y, z)"
   ]
  },
  {
   "cell_type": "code",
   "execution_count": null,
   "id": "f8df7c68",
   "metadata": {},
   "outputs": [],
   "source": []
  },
  {
   "cell_type": "markdown",
   "id": "623577e5",
   "metadata": {},
   "source": [
    "# Exercise 1\n",
    "Finish the function below so it does as described in the docstring. Remember to import the `sqrt` function from the math module.\n",
    "\n",
    "---\n",
    "~~~python\n",
    "def dist_point_to_line(x, y, x1, y1, x2, y2):\n",
    "    '''Return distance between a point and a line defined by two points.\n",
    "    \n",
    "    Args:\n",
    "        x  : x-coordinate of point \n",
    "        y  : y-coordinate of point\n",
    "        x1 : x-coordinate of point 1 defining the line\n",
    "        y1 : y-coordinate of point 1 defining the line\n",
    "        x2 : x-coordinate of point 2 defining the line\n",
    "        y2 : y-coordinate of point 2 defining the line\n",
    "        \n",
    "    Returns:\n",
    "           The distance between the point and the line        \n",
    "    '''\n",
    "    # Your code goes here\n",
    "~~~\n",
    "---\n",
    "The distance between a point $(x, y)$ and a line passing through points $(x_1, y_1)$ and $(x_2, y_2)$ can be found as\n",
    "\n",
    "\\begin{equation*}\n",
    "\\textrm{ distance}(P_1, P_2, (x, y)) = \\frac{|(y_2-y_1)x - (x_2-x_1)y + x_2 y_1 - y_2 x_1|}{\\sqrt{ (x_2-x_1)^2 + (y_2-y_1)^2 }}\n",
    "\\end{equation*}\n",
    "\n",
    "Use `abs()` to get the numeric value.\n",
    "\n",
    "Call the function to test if it works. Some examples to test against:\n",
    "\n",
    "~~~python\n",
    "dist_point_to_line(2, 1, 5, 5, 1, 6)                      -->   4.61 \n",
    "dist_point_to_line(1.4, 5.2, 10.1, 2.24, 34.142, 13.51)   -->   6.37 \n",
    "~~~\n"
   ]
  },
  {
   "cell_type": "code",
   "execution_count": null,
   "id": "53e77348",
   "metadata": {},
   "outputs": [],
   "source": [
    "def dist_point_to_line(x, y, x1, y1, x2, y2):\n",
    "    return abs((y2-y1)*x-(x2-x1)*y + x2*y1 - y2*x1) / ((((x2 - x1)**2 + (y2 - y1)**2))**0.5) "
   ]
  },
  {
   "cell_type": "code",
   "execution_count": null,
   "id": "f10622a3",
   "metadata": {},
   "outputs": [],
   "source": [
    "dist_point_to_line(2, 1, 5, 5, 1, 6)"
   ]
  },
  {
   "cell_type": "markdown",
   "id": "b976602c",
   "metadata": {},
   "source": [
    "# Exercise 2\n",
    "Given a line defined by two points $(x_1, y_1)=(2, 3)$ and $(x_2, y_2)=(8, 7)$, compute the distance to the points with coordinates `x_coords` and `y_coords` below.\n",
    "\n",
    "Put the results into a list.\n",
    "\n",
    "~~~python\n",
    "# x- and y-coordinates of points\n",
    "x_coords = [4.1, 22.2, 7.7, 62.2, 7.8, 1.1]\n",
    "y_coords = [0.3, 51.2, 3.5, 12.6, 2.7, 9.8]\n",
    "~~~\n",
    "\n",
    "You can either use a list comprehension or create a traditional `for`-loop where results get appended to the list in every loop.\n"
   ]
  },
  {
   "cell_type": "code",
   "execution_count": null,
   "id": "f2020fa0",
   "metadata": {},
   "outputs": [],
   "source": [
    "x_coords = [4.1, 22.2, 7.7, 62.2, 7.8, 1.1]\n",
    "y_coords = [0.3, 51.2, 3.5, 12.6, 2.7, 9.8]\n",
    "for x,y in zip(x_coords,y_coords):\n",
    "    print(dist_point_to_line(x,y,2,3,8,7))"
   ]
  },
  {
   "cell_type": "markdown",
   "id": "ef9ebd85",
   "metadata": {},
   "source": [
    "# Exercise 3\n",
    "Create a function that calculates the area of a simple (non-self-intersecting) polygon by using the so-called **Shoelace Formula**\n",
    "\n",
    "$$ A_p = \\frac{1}{2} \\sum_{i=0}^{n-1} (x_i y_{i+1} - x_{i+1} y_i) $$\n",
    "\n",
    "The area is **signed** depending on the ordering of the polygon being clockwise or counter-clockwise. The numerical value of the formula will always be equal to the actual area.\n",
    "\n",
    "The function should take three input parameters:\n",
    "\n",
    "* `xv`       - list of x-coordinates of all vertices\n",
    "* `yv`       - list of y-coordinates of all vertices\n",
    "* `signed`   - boolean value that dictates whether the function returns the signed area or the actual area. Default should be   actual area.\n",
    "\n",
    "Assume that the polygon is closed, i.e. the first and last elements of `xv` are identical and the same is true for `yv`.\n",
    "\n",
    "A function call with these input coordinates should return `12.0`: \n",
    "~~~python \n",
    "x = [3, 4, 7, 8, 8.5, 3]\n",
    "y = [5, 3, 0, 1, 3, 5]\n",
    "~~~\n",
    "\n",
    "Source: https://en.wikipedia.org/wiki/Polygon#Area"
   ]
  },
  {
   "cell_type": "code",
   "execution_count": null,
   "id": "369ddab3",
   "metadata": {},
   "outputs": [],
   "source": [
    "def shoelace(xv, yv, signed=True):\n",
    "    # Perform shoelace multiplication\n",
    "    a1 = [xv[i] * yv[i+1] for i in range(len(xv)-1)]\n",
    "    a2 = [yv[i] * xv[i+1] for i in range(len(yv)-1)]\n",
    "\n",
    "    # Check if area should be signed and return area\n",
    "    if signed:          # <--- Same as \"if signed == True:\"\n",
    "        return 1/2 * ( sum(a1) - sum(a2) )\n",
    "    else:\n",
    "        return 1/2 * abs( sum(a1) - sum(a2) )\n",
    "\n",
    "\n",
    "# Define the polygon vertices to test\n",
    "x = [3, 4, 7, 8, 8.5, 3]\n",
    "y = [5, 3, 0, 1, 3, 5]\n",
    "\n",
    "# Calculate area by calling the function\n",
    "A = shoelace(x, y)\n",
    "\n",
    "# Print the area\n",
    "print(A)"
   ]
  },
  {
   "cell_type": "markdown",
   "id": "2bbddf23",
   "metadata": {},
   "source": [
    "# Exercise 4\n",
    "Write a function that calculates and returns the centroid $(C_x, C_y)$ of a polygon by using the formula:\n",
    "\n",
    "$$ C_x = \\frac{1}{6A} \\sum_{i=0}^{n-1} (x_i+x_{i+1}) (x_i y_{i+1} - x_{i+1} y_i) $$\n",
    "\n",
    "$$ C_y = \\frac{1}{6A} \\sum_{i=0}^{n-1} (y_i+y_{i+1}) (x_i y_{i+1} - x_{i+1} y_i) $$\n",
    "\n",
    "`x` and `y` are lists of coordinates of a closed simple polygon.\n",
    "\n",
    "Here, $A$ is the **signed** area. When you need $A$, call the function from the previous exercise to get it. Be sure to call it with the non-default `signed=True`. \n",
    "\n",
    "A function call with the input coordinates below should return (`6.083`, `2.583`):\n",
    "~~~python\n",
    "x = [3, 4, 7, 8, 8.5, 3]\n",
    "y = [5, 3, 0, 1, 3, 5]\n",
    "~~~\n",
    "\n",
    "Source: https://en.wikipedia.org/wiki/Centroid#Of_a_polygon"
   ]
  },
  {
   "cell_type": "code",
   "execution_count": null,
   "id": "bef13747",
   "metadata": {},
   "outputs": [],
   "source": []
  },
  {
   "cell_type": "markdown",
   "id": "9c052a5b",
   "metadata": {},
   "source": [
    "## File Input/Output Operations"
   ]
  },
  {
   "cell_type": "code",
   "execution_count": null,
   "id": "f65e6c9b",
   "metadata": {},
   "outputs": [],
   "source": [
    "helloFile = open('C:\\\\Users\\\\your_home_folder\\\\hello.txt')"
   ]
  },
  {
   "cell_type": "markdown",
   "id": "3e1b998b",
   "metadata": {},
   "source": [
    "#### Writing to a file"
   ]
  },
  {
   "cell_type": "code",
   "execution_count": null,
   "id": "20f46d03",
   "metadata": {},
   "outputs": [],
   "source": [
    "f = open('file_to_save.txt', 'w')\n",
    "f.write(\"in_class\\n\")\n",
    "f.close()"
   ]
  },
  {
   "cell_type": "markdown",
   "id": "f1b8d91f",
   "metadata": {},
   "source": [
    "#### Adding to a existing file"
   ]
  },
  {
   "cell_type": "code",
   "execution_count": null,
   "id": "7e80bf83",
   "metadata": {},
   "outputs": [],
   "source": [
    "f = open('file_to_save.txt', 'a')\n",
    "f.write(\"this is new line\\n\")\n",
    "f.close()"
   ]
  },
  {
   "cell_type": "markdown",
   "id": "51a08a59",
   "metadata": {},
   "source": [
    "#### short version of open/close file"
   ]
  },
  {
   "cell_type": "code",
   "execution_count": null,
   "id": "1062b237",
   "metadata": {},
   "outputs": [],
   "source": [
    "with open('file_to_save.txt', 'a') as open_file:\n",
    "    open_file.write('\\nthird string\\n')"
   ]
  },
  {
   "cell_type": "markdown",
   "id": "570b7f38",
   "metadata": {},
   "source": [
    "### Reading a file"
   ]
  },
  {
   "cell_type": "code",
   "execution_count": null,
   "id": "d6c277cd",
   "metadata": {},
   "outputs": [],
   "source": [
    "with open('yasamaya_dair.txt', 'r') as r_file:\n",
    "    for line in r_file:\n",
    "        print(line)"
   ]
  },
  {
   "cell_type": "code",
   "execution_count": null,
   "id": "ff14a3e1",
   "metadata": {},
   "outputs": [],
   "source": []
  },
  {
   "cell_type": "code",
   "execution_count": null,
   "id": "65ce2388",
   "metadata": {},
   "outputs": [],
   "source": []
  },
  {
   "cell_type": "code",
   "execution_count": null,
   "id": "844ae07d",
   "metadata": {},
   "outputs": [],
   "source": []
  },
  {
   "cell_type": "markdown",
   "id": "5eedd4b2",
   "metadata": {},
   "source": [
    "### Word Guessing Game"
   ]
  },
  {
   "cell_type": "code",
   "execution_count": null,
   "id": "ae310d11",
   "metadata": {},
   "outputs": [],
   "source": [
    "import random\n",
    "\n",
    "def choose_random_word():\n",
    "    words=[]\n",
    "    with open('sowpods.txt', 'r') as file:\n",
    "        line = file.readline()\n",
    "        while line:\n",
    "            words.append(line.replace(\"\\n\",\"\".strip()))\n",
    "            line = file.readline()\n",
    "    choice=words[random.randint(0,len(words)-1)]\n",
    "    return choice\n",
    "\n",
    "\n",
    "\n",
    "\n",
    "\n",
    "print(\"Welcome to Hangman!\")\n",
    "secret_word=choose_random_word()\n",
    "dashes=list(secret_word)\n",
    "display_list=[]\n",
    "for i in dashes:\n",
    "    display_list.append(\"_\")\n",
    "count=len(secret_word)\n",
    "guesses=0\n",
    "letter = 0\n",
    "used_list=[]\n",
    "while count != 0 and letter != \"exit\":\n",
    "    print(\" \".join(display_list))\n",
    "    letter=input(\"Guess your letter: \")\n",
    "\n",
    "    if letter.upper() in used_list:\n",
    "        print(\"Oops! Already guessed that letter.\")\n",
    "    else:\n",
    "        for i in range(0,len(secret_word)):\n",
    "            if letter.upper() == secret_word[i]:\n",
    "                display_list[i]=letter.upper()\n",
    "                count -= 1\n",
    "        guesses +=1\n",
    "    used_list.append(letter.upper())\n",
    "\n",
    "if letter == \"exit\":\n",
    "    print(\"Thanks!\")\n",
    "else:\n",
    "    print(\" \".join(display_list))\n",
    "    print(\"Good job! You figured that the word is \"+secret_word+\" after guessing %s letters!\" % guesses)"
   ]
  },
  {
   "cell_type": "code",
   "execution_count": null,
   "id": "d2600968",
   "metadata": {},
   "outputs": [],
   "source": [
    "secret_word"
   ]
  },
  {
   "cell_type": "markdown",
   "id": "fbeea4e2",
   "metadata": {},
   "source": [
    "Ask user for name, salary, and department of an employee. \n",
    "\n",
    "Append this employee with a unique ID to the given file. Repeat this process until user enters 0 for name.\n",
    "\n",
    "First: Try to append:\n",
    "12,Ali,4000,Management\\n"
   ]
  },
  {
   "cell_type": "code",
   "execution_count": null,
   "id": "3180bc97",
   "metadata": {},
   "outputs": [],
   "source": [
    "import random\n",
    "while name == \"\":\n",
    "    name = input(\"Name?: \\n\")\n",
    "    salary = input(\"Salary?: \\n\")\n",
    "    department = input(\"Department?: \\n\")\n",
    "    _id = random.randint(1,20)\n",
    "    \n",
    "with open(\"employees.csv\", \"a\") as fp:\n",
    "    fp.write(f\"{_id},{name},{salary},{department}\\n\")"
   ]
  },
  {
   "cell_type": "code",
   "execution_count": null,
   "id": "3320109c",
   "metadata": {},
   "outputs": [],
   "source": [
    "lp = \"12,Ali,4000,Management\\n\""
   ]
  },
  {
   "cell_type": "code",
   "execution_count": null,
   "id": "868bda3a",
   "metadata": {},
   "outputs": [],
   "source": [
    "lp.split(\",\")"
   ]
  },
  {
   "cell_type": "code",
   "execution_count": null,
   "id": "d7432cf6",
   "metadata": {},
   "outputs": [],
   "source": [
    "with open(\"employees.csv\", \"r\") as fp:\n",
    "    for line in fp.readlines():\n",
    "        f_line = line.split(\",\")\n",
    "        if f_line[1] == \"Ali\":\n",
    "            print(\"Ali's salary is: \" + f_line[2])\n",
    "            print(\"Ali's department is: \" + f_line[3])"
   ]
  },
  {
   "cell_type": "code",
   "execution_count": null,
   "id": "574a026a",
   "metadata": {},
   "outputs": [],
   "source": [
    "kaggle.com"
   ]
  },
  {
   "cell_type": "markdown",
   "id": "c99cf65d",
   "metadata": {},
   "source": [
    "## For home exercises:\n",
    "\n",
    "- https://leetcode.com/\n",
    "- https://www.practicepython.org/\n",
    "- https://pynative.com/python-exercises-with-solutions/"
   ]
  }
 ],
 "metadata": {
  "kernelspec": {
   "display_name": "Python 3 (ipykernel)",
   "language": "python",
   "name": "python3"
  },
  "language_info": {
   "codemirror_mode": {
    "name": "ipython",
    "version": 3
   },
   "file_extension": ".py",
   "mimetype": "text/x-python",
   "name": "python",
   "nbconvert_exporter": "python",
   "pygments_lexer": "ipython3",
   "version": "3.8.10"
  }
 },
 "nbformat": 4,
 "nbformat_minor": 5
}
