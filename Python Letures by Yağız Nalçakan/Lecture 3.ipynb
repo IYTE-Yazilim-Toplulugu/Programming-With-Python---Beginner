{
 "cells": [
  {
   "cell_type": "markdown",
   "id": "ba1dfe71",
   "metadata": {},
   "source": [
    "\n",
    "## Lecture 3 outline\n",
    "- Data Structures - Tuple, Set, Dictionary\n",
    "- For loop\n",
    "- While loop\n",
    "\n",
    "Course materials: https://nbviewer.org/github/Python-Crash-Course/Python101/tree/master/ & https://automatetheboringstuff.com/"
   ]
  },
  {
   "cell_type": "markdown",
   "id": "458ee4c6",
   "metadata": {},
   "source": [
    "### Lecture 1 excercises solutions"
   ]
  },
  {
   "cell_type": "markdown",
   "id": "1ffa8c81",
   "metadata": {},
   "source": [
    "### Q1 - Absolute Value:"
   ]
  },
  {
   "cell_type": "code",
   "execution_count": 2,
   "id": "4fb112e5",
   "metadata": {},
   "outputs": [
    {
     "name": "stdout",
     "output_type": "stream",
     "text": [
      "Please enter a number.\n",
      "-10\n",
      "Absolute value: 10.0\n",
      "Please enter a number.\n",
      "-10\n",
      "Absolute value: 10.0\n"
     ]
    }
   ],
   "source": [
    "# Absolute Value\n",
    "num = float(input(\"Please enter a number.\\n\"))\n",
    "\n",
    "if num < 0:\n",
    "    num = num * -1   # num =-1\n",
    "print(\"Absolute value:\", num)\n",
    "\n",
    "num = float(input(\"Please enter a number.\\n\"))\n",
    "print(\"Absolute value:\", abs(num))"
   ]
  },
  {
   "cell_type": "markdown",
   "id": "c73d84bb",
   "metadata": {},
   "source": [
    "### Q2 - Min Value:"
   ]
  },
  {
   "cell_type": "code",
   "execution_count": 3,
   "id": "ebfe4d2c",
   "metadata": {},
   "outputs": [
    {
     "name": "stdout",
     "output_type": "stream",
     "text": [
      "Please enter a number.\n",
      "5\n",
      "Please enter a number.\n",
      "3\n",
      "Please enter a number.\n",
      "4\n",
      "Minimum: 4.0\n"
     ]
    }
   ],
   "source": [
    "# Minimum Value\n",
    "num1 = float(input(\"Please enter a number.\\n\"))\n",
    "num2 = float(input(\"Please enter a number.\\n\"))\n",
    "num3 = float(input(\"Please enter a number.\\n\"))\n",
    "\n",
    "if num1 < num2:\n",
    "    if num1 < num3:\n",
    "        print(\"Minimum:\", num1)\n",
    "    else:\n",
    "        print(\"Minimum:\", num3)\n",
    "else:\n",
    "    if num1 < num3:\n",
    "        print(\"Minimum:\", num2)\n",
    "    else:\n",
    "        print(\"Minimum:\", num3)\n",
    "        \n",
    "print(\"Minimum:\", min(num1,num2,num3))"
   ]
  },
  {
   "cell_type": "markdown",
   "id": "8164c22d",
   "metadata": {},
   "source": [
    "### Q3 - Graduation condition"
   ]
  },
  {
   "cell_type": "code",
   "execution_count": 4,
   "id": "a6679518",
   "metadata": {},
   "outputs": [
    {
     "name": "stdout",
     "output_type": "stream",
     "text": [
      "Enter your GPA: 3.0\n",
      "Enter number of lectures that you have taken: 10\n",
      "Not enough number of lectures!\n"
     ]
    }
   ],
   "source": [
    "# Graduation Condition\n",
    "gpa = float(input(\"Enter your GPA: \"))\n",
    "number_of_lectures = int(input(\"Enter number of lectures that you have taken: \"))\n",
    "\n",
    "gpa_control = 2.0\n",
    "number_of_lectures_control = 47\n",
    "\n",
    "if gpa < gpa_control and number_of_lectures < number_of_lectures_control:\n",
    "    print(\"Not enough number of lectures and GPA!\")\n",
    "elif gpa < gpa_control:\n",
    "    print(\"Not enough GPA!\")\n",
    "elif number_of_lectures < number_of_lectures_control:\n",
    "    print(\"Not enough number of lectures!\")\n",
    "else:\n",
    "    print(\"GRADUATED!!!\")"
   ]
  },
  {
   "cell_type": "markdown",
   "id": "7b528493",
   "metadata": {},
   "source": [
    "### Q4. Ticket discount"
   ]
  },
  {
   "cell_type": "code",
   "execution_count": 5,
   "id": "c37861aa",
   "metadata": {},
   "outputs": [
    {
     "name": "stdout",
     "output_type": "stream",
     "text": [
      "Enter your age: 18\n",
      "Ticket price: 1.5\n"
     ]
    }
   ],
   "source": [
    "# Ticket Discount\n",
    "age = int(input(\"Enter your age: \"))\n",
    "price = 3\n",
    "if 6 < age < 60 :\n",
    "    if 7 <= age <= 18 :\n",
    "        print(\"Ticket price:\",price*0.50)\n",
    "    else:\n",
    "        print(\"Ticket price:\",price)\n",
    "else:\n",
    "    print(\"Free\")"
   ]
  },
  {
   "cell_type": "markdown",
   "id": "1db64f0d",
   "metadata": {},
   "source": [
    "### Q5. Roots of Quadratic equation"
   ]
  },
  {
   "cell_type": "code",
   "execution_count": 6,
   "id": "ad59151a",
   "metadata": {},
   "outputs": [
    {
     "name": "stdout",
     "output_type": "stream",
     "text": [
      "Enter a: 1\n",
      "Enter b: 4\n",
      "Enter c: 2\n",
      "There are two real roots.\n",
      "x1 =  -2.585786437626905 x2 =  -5.414213562373095\n"
     ]
    }
   ],
   "source": [
    " # Roots of Quadratic Equation\n",
    "a = float(input(\"Enter a: \"))\n",
    "b = float(input(\"Enter b: \"))\n",
    "c = float(input(\"Enter c: \"))\n",
    "\n",
    "delta = b**2 - 4*a*c\n",
    "\n",
    "if delta > 0:\n",
    "    print(\"There are two real roots.\")\n",
    "    x1 = -b + (delta**0.5) / (2 * a)\n",
    "    x2 = -b - (delta**0.5) / (2 * a)\n",
    "    print(\"x1 = \", x1, \"x2 = \", x2)\n",
    "elif delta == 0:\n",
    "    print(\"There is one real root.\")\n",
    "    x = -b / (2 * a)\n",
    "    print(\"x1 = x2 = \", x)\n",
    "else:\n",
    "    print(\"There are two complex roots.\")\n",
    "    i = (-1)**0.5\n",
    "    x1 = -b + i * (delta**0.5) / (2 * a)\n",
    "    x2 = -b - i * (delta ** 0.5) / (2 * a)\n",
    "    print(\"x1 = \", x1, \"x2 = \", x2)"
   ]
  },
  {
   "cell_type": "code",
   "execution_count": null,
   "id": "12ded72d",
   "metadata": {},
   "outputs": [],
   "source": [
    "from IPython.display import HTML\n",
    "import random\n",
    "\n",
    "def hide_toggle(for_next=False):\n",
    "    this_cell = \"\"\"$('div.cell.code_cell.rendered.selected')\"\"\"\n",
    "    next_cell = this_cell + '.next()'\n",
    "\n",
    "    toggle_text = 'Toggle show/hide'  # text shown on toggle link\n",
    "    target_cell = this_cell  # target cell to control with toggle\n",
    "    js_hide_current = ''  # bit of JS to permanently hide code in current cell (only when toggling next cell)\n",
    "\n",
    "    if for_next:\n",
    "        target_cell = next_cell\n",
    "        toggle_text += ' next cell'\n",
    "        js_hide_current = this_cell + '.find(\"div.input\").hide();'\n",
    "\n",
    "    js_f_name = 'code_toggle_{}'.format(str(random.randint(1,2**64)))\n",
    "\n",
    "    html = \"\"\"\n",
    "        <script>\n",
    "            function {f_name}() {{\n",
    "                {cell_selector}.find('div.input').toggle();\n",
    "            }}\n",
    "\n",
    "            {js_hide_current}\n",
    "        </script>\n",
    "\n",
    "        <a href=\"javascript:{f_name}()\">{toggle_text}</a>\n",
    "    \"\"\".format(\n",
    "        f_name=js_f_name,\n",
    "        cell_selector=target_cell,\n",
    "        js_hide_current=js_hide_current, \n",
    "        toggle_text=toggle_text\n",
    "    )\n",
    "\n",
    "    return HTML(html)"
   ]
  },
  {
   "cell_type": "markdown",
   "id": "d4d4c48a",
   "metadata": {},
   "source": [
    "## Tuples\n",
    "Tuples are very comparable to lists, but they are defined by parentheses `()`. Most notable difference from lists is that tuples are **immutable**.\n",
    "\n",
    "### Tuple syntax \n",
    "<code> t = (item_1, item_2, ..., item_n) </code>\n",
    "\n",
    "### Mutability\n",
    "Tuples are ***immutable***. They cannot be changed after creation.\n",
    "\n",
    "### Tuple examples"
   ]
  },
  {
   "cell_type": "code",
   "execution_count": 5,
   "id": "05e06edf",
   "metadata": {},
   "outputs": [],
   "source": [
    "# Simple tuple of integers\n",
    "t1 = (1, 24, 56)   \n",
    "\n",
    "# Multiple types as tuple elements\n",
    "t2 = (1, 1.62, '12', [1, 2 , 3])  \n",
    "\n",
    "# Tuple of tuples\n",
    "points = ((4, 5), (12, 6), (14, 9))   "
   ]
  },
  {
   "cell_type": "markdown",
   "id": "e588aaad",
   "metadata": {},
   "source": [
    "## Sets\n",
    "Sets are defined with curly brackets `{}`. They are **unordered and don't have an index**. See description of indexing further down. Sets also have **unique items**.\n",
    "\n",
    "### Set syntax\n",
    "   \n",
    "<code> s = {item_1, item_2, ..., item_n} </code>\n",
    "\n",
    "The primary idea about sets is the ability to perform set operations. These are known from mathematics and can determine the *union*, *intersection*, *difference* etc. of two given sets.\n",
    "\n",
    "See for example these links for explanations on set operations: https://en.wikipedia.org/wiki/Set_(mathematics)#Basic_operations or https://snakify.org/en/lessons/sets/.\n",
    "\n",
    "A list, string or tuple can be converted to a set by `set(sequence_to_convert)`. Since sets only have unique items, the set resulting from the operation has same values as the input sequence, but with duplicates removed. This can be a way to create a list with only unique elements. \n",
    "\n",
    "For example:\n",
    "~~~python\n",
    "# Convert list to set and back to list again with now only unique elements\n",
    "list_uniques = list(set(list_with_duplicates))  \n",
    "~~~\n",
    "\n",
    "### Mutability\n",
    "Sets are ***mutable***. They can be changed after creation.\n",
    "\n",
    "### Set examples"
   ]
  },
  {
   "cell_type": "code",
   "execution_count": 6,
   "id": "c2e78602",
   "metadata": {},
   "outputs": [
    {
     "data": {
      "text/plain": [
       "{1, 3, 6, 7, 8, 21, 26, 32, 86}"
      ]
     },
     "execution_count": 6,
     "metadata": {},
     "output_type": "execute_result"
    }
   ],
   "source": [
    "s1 = {32, 3, 1, 86, 6, 8}\n",
    "s2 = {8, 6, 21, 7, 26}\n",
    "\n",
    "# Find the union of the two sets\n",
    "s1.union(s2)               "
   ]
  },
  {
   "cell_type": "code",
   "execution_count": 7,
   "id": "87ae929b",
   "metadata": {},
   "outputs": [
    {
     "data": {
      "text/plain": [
       "{6, 8}"
      ]
     },
     "execution_count": 7,
     "metadata": {},
     "output_type": "execute_result"
    }
   ],
   "source": [
    "# Find the intersection of the two sets\n",
    "s1.intersection(s2)       "
   ]
  },
  {
   "cell_type": "code",
   "execution_count": 8,
   "id": "b848abe5",
   "metadata": {},
   "outputs": [
    {
     "data": {
      "text/plain": [
       "{1, 2, 3, 4, 5}"
      ]
     },
     "execution_count": 8,
     "metadata": {},
     "output_type": "execute_result"
    }
   ],
   "source": [
    "list_with_duplicates = [1, 2, 3, 4, 5, 2, 2, 3, 1]\n",
    "\n",
    "# Create a set of the list (which removed duplicates)\n",
    "s3 = set(list_with_duplicates)   \n",
    "s3"
   ]
  },
  {
   "cell_type": "markdown",
   "id": "dd657aab",
   "metadata": {},
   "source": [
    "If a `list` is wanted again:"
   ]
  },
  {
   "cell_type": "code",
   "execution_count": 9,
   "id": "5f954c66",
   "metadata": {},
   "outputs": [
    {
     "data": {
      "text/plain": [
       "[1, 2, 3, 4, 5]"
      ]
     },
     "execution_count": 9,
     "metadata": {},
     "output_type": "execute_result"
    }
   ],
   "source": [
    "list(s3)"
   ]
  },
  {
   "cell_type": "markdown",
   "id": "8ef1ff43",
   "metadata": {},
   "source": [
    "## Data Structures - Dictionaries"
   ]
  },
  {
   "cell_type": "markdown",
   "id": "c65873bc",
   "metadata": {},
   "source": [
    "## Dictionaries\n",
    "Dictionaries have key/value pairs which are enclosed in curly brackets`{}`. A value can be fetched by querying the corresponding key. Refering the data via logically named keys instead of list indexes makes the code more readable.\n",
    "\n",
    "### Dictionary syntax    \n",
    "    \n",
    "<code> d = {key1: value1, key2: value2, ..., key_n: value_n} </code>\n",
    "    \n",
    "Note that values can be of any data type like floats, strings etc., but they can also be lists or other data structures.\n",
    "\n",
    "**Keys must be unique within the dictionary**. Otherwise it would be hard to extract the value by calling out a certain key, see the section about indexing and slicing below.\n",
    "\n",
    "Keys also must be of an immutable type.\n",
    " \n",
    "### Mutability\n",
    "Dictionaries are ***mutable***. They can be changed after creation.\n",
    "\n",
    "### Dictionary examples\n",
    "Some examples of dictionaries:"
   ]
  },
  {
   "cell_type": "code",
   "execution_count": 7,
   "id": "21c3b20e",
   "metadata": {},
   "outputs": [],
   "source": [
    "# Strings as keys and numbers as values\n",
    "d1 = {'axial_force': 319.2, 'moment': 74, 'shear': 23}      \n",
    "\n",
    "# Strings as keys and lists as values\n",
    "d2 = {'Point1': [1.3, 51, 10.6], 'Point2': [7.1, 11, 6.7]}  \n",
    "\n",
    "# Keys of different types (int and str, don't do this!)\n",
    "d3 = {1: True, 'hej': 23}                                   "
   ]
  },
  {
   "cell_type": "markdown",
   "id": "3cb8e12d",
   "metadata": {
    "collapsed": true
   },
   "source": [
    "The first two dictionaries above have a certain trend. For `d1` the keys are strings and the values are integers. For `d2` the keys are strings and the values are lists. These are well-structured dictionaries.\n",
    "\n",
    "However, `d3` has keys that are of mixed types! The first key is an integer and the second is a string. This is totally valid syntax, but not a good idea to do.\n",
    "\n",
    "As with most stuff in Python the flexibility is very nice, but it can also be confusing to have many different types mixed in the same data structure. To make code more readable, it is often preferred to keep the same trend throughout the dictionary. I.e. all keys are of same type and all values are of the same type as in `d1` and `d2`.\n",
    "\n",
    "The keys and values can be extracted separately by the methods `dict.keys()` and `dict.values()`:"
   ]
  },
  {
   "cell_type": "code",
   "execution_count": 8,
   "id": "5286533d",
   "metadata": {},
   "outputs": [
    {
     "data": {
      "text/plain": [
       "dict_keys(['axial_force', 'moment', 'shear'])"
      ]
     },
     "execution_count": 8,
     "metadata": {},
     "output_type": "execute_result"
    }
   ],
   "source": [
    "d1.keys()"
   ]
  },
  {
   "cell_type": "code",
   "execution_count": 11,
   "id": "d9f6574b",
   "metadata": {},
   "outputs": [
    {
     "data": {
      "text/plain": [
       "dict_items([('Point1', [1.3, 51, 10.6]), ('Point2', [7.1, 11, 6.7])])"
      ]
     },
     "execution_count": 11,
     "metadata": {},
     "output_type": "execute_result"
    }
   ],
   "source": [
    "d2.items()"
   ]
  },
  {
   "cell_type": "code",
   "execution_count": 12,
   "id": "94a6d7e1",
   "metadata": {},
   "outputs": [
    {
     "data": {
      "text/plain": [
       "dict_values([319.2, 74, 23])"
      ]
     },
     "execution_count": 12,
     "metadata": {},
     "output_type": "execute_result"
    }
   ],
   "source": [
    "d1.values()"
   ]
  },
  {
   "cell_type": "markdown",
   "id": "dd3c01d4",
   "metadata": {},
   "source": [
    "### Extracting values from dictionaries\n",
    "Dictionaries differ from data structures like strings, lists and tuples since **they do not have an index**. Instead, a value is extracted by using the corresponding key:"
   ]
  },
  {
   "cell_type": "code",
   "execution_count": 16,
   "id": "0a8e5c29",
   "metadata": {},
   "outputs": [],
   "source": [
    "d = {'N': 83, 'My': 154, 'Mz': 317}\n",
    "d['My'] = 54"
   ]
  },
  {
   "cell_type": "code",
   "execution_count": 21,
   "id": "2ff63299",
   "metadata": {},
   "outputs": [],
   "source": [
    "d.update({'My': [55,54]})"
   ]
  },
  {
   "cell_type": "code",
   "execution_count": 22,
   "id": "9b1a813a",
   "metadata": {},
   "outputs": [
    {
     "data": {
      "text/plain": [
       "[55, 54]"
      ]
     },
     "execution_count": 22,
     "metadata": {},
     "output_type": "execute_result"
    }
   ],
   "source": [
    "d.get('My')"
   ]
  },
  {
   "cell_type": "markdown",
   "id": "c2ba79eb",
   "metadata": {},
   "source": [
    "See demonstation below, where the key `'a'` is defined twice. The second defintion overwrites the first one."
   ]
  },
  {
   "cell_type": "code",
   "execution_count": null,
   "id": "dda3aa30",
   "metadata": {},
   "outputs": [],
   "source": [
    "{'a': 1, 'b': 2, 'c':3, 'a': 4}"
   ]
  },
  {
   "cell_type": "code",
   "execution_count": 23,
   "id": "4acd2b5d",
   "metadata": {},
   "outputs": [],
   "source": [
    "myCat = {'size': 'fat',\n",
    "                'color': 'gray',\n",
    "                'disposition': 'loud'}"
   ]
  },
  {
   "cell_type": "code",
   "execution_count": 24,
   "id": "2480d043",
   "metadata": {},
   "outputs": [
    {
     "name": "stdout",
     "output_type": "stream",
     "text": [
      "My cat has gray fur.\n"
     ]
    }
   ],
   "source": [
    "print('My cat has ' + myCat['color'] + ' fur.')"
   ]
  },
  {
   "cell_type": "markdown",
   "id": "379f7d10",
   "metadata": {},
   "source": [
    "### Modeling the real world with Dictionaries\n",
    "\n",
    "![](000101.jpg)"
   ]
  },
  {
   "cell_type": "code",
   "execution_count": 26,
   "id": "c7042b1a",
   "metadata": {},
   "outputs": [],
   "source": [
    "# how ??\n",
    "chess_board = {\"b_queen\" : \"h1\",\n",
    "                          \"w_queen\": \"e3\"}"
   ]
  },
  {
   "cell_type": "code",
   "execution_count": 27,
   "id": "2efb4162",
   "metadata": {},
   "outputs": [],
   "source": [
    "chess_board[\"w_queen\"] = \"g2\""
   ]
  },
  {
   "cell_type": "code",
   "execution_count": 28,
   "id": "83809d3d",
   "metadata": {},
   "outputs": [
    {
     "data": {
      "text/plain": [
       "{'b_queen': 'h1', 'w_queen': 'g2'}"
      ]
     },
     "execution_count": 28,
     "metadata": {},
     "output_type": "execute_result"
    }
   ],
   "source": [
    "chess_board"
   ]
  },
  {
   "cell_type": "markdown",
   "id": "e33f6670",
   "metadata": {},
   "source": [
    "![](000048.jpg)"
   ]
  },
  {
   "cell_type": "code",
   "execution_count": 30,
   "id": "cc9f2b91",
   "metadata": {},
   "outputs": [],
   "source": [
    "# how ??\n",
    "board = {\"top-L\": \"\",\n",
    "               \"top-M\": \"\"}"
   ]
  },
  {
   "cell_type": "code",
   "execution_count": 31,
   "id": "050783c4",
   "metadata": {},
   "outputs": [],
   "source": [
    "board['top-L'] = \"X\""
   ]
  },
  {
   "cell_type": "code",
   "execution_count": 32,
   "id": "5a3c9ca1",
   "metadata": {},
   "outputs": [
    {
     "data": {
      "text/plain": [
       "{'top-L': 'X', 'top-M': ''}"
      ]
     },
     "execution_count": 32,
     "metadata": {},
     "output_type": "execute_result"
    }
   ],
   "source": [
    "board"
   ]
  },
  {
   "cell_type": "code",
   "execution_count": 34,
   "id": "b956a32c",
   "metadata": {
    "scrolled": true
   },
   "outputs": [
    {
     "ename": "SyntaxError",
     "evalue": "unexpected EOF while parsing (Temp/ipykernel_47952/40553923.py, line 4)",
     "output_type": "error",
     "traceback": [
      "\u001b[1;36m  File \u001b[1;32m\"C:\\Users\\laptux\\AppData\\Local\\Temp/ipykernel_47952/40553923.py\"\u001b[1;36m, line \u001b[1;32m4\u001b[0m\n\u001b[1;33m    #         set_trace()\u001b[0m\n\u001b[1;37m                         ^\u001b[0m\n\u001b[1;31mSyntaxError\u001b[0m\u001b[1;31m:\u001b[0m unexpected EOF while parsing\n"
     ]
    }
   ],
   "source": [
    "for key, value in board.items():\n",
    "    if \"top\" in key:\n",
    "#         from IPython.core.debugger import set_trace\n",
    "#         set_trace()\n",
    "#         import ipdb; ipdb.set_trace()\n"
   ]
  },
  {
   "cell_type": "markdown",
   "id": "03d3661b",
   "metadata": {},
   "source": [
    "## For loop"
   ]
  },
  {
   "cell_type": "code",
   "execution_count": 35,
   "id": "0f712db6",
   "metadata": {},
   "outputs": [
    {
     "data": {
      "text/plain": [
       "range(0, 10)"
      ]
     },
     "execution_count": 35,
     "metadata": {},
     "output_type": "execute_result"
    }
   ],
   "source": [
    "range(10)"
   ]
  },
  {
   "cell_type": "code",
   "execution_count": 36,
   "id": "503df366",
   "metadata": {},
   "outputs": [
    {
     "name": "stdout",
     "output_type": "stream",
     "text": [
      "My name is\n",
      "Jimmy Five Times (0)\n",
      "Jimmy Five Times (1)\n",
      "Jimmy Five Times (2)\n",
      "Jimmy Five Times (3)\n",
      "Jimmy Five Times (4)\n"
     ]
    }
   ],
   "source": [
    "print('My name is')\n",
    "for i in range(5):\n",
    "    print('Jimmy Five Times (' + str(i) + ')')"
   ]
  },
  {
   "cell_type": "code",
   "execution_count": 37,
   "id": "46e049c3",
   "metadata": {},
   "outputs": [
    {
     "name": "stdout",
     "output_type": "stream",
     "text": [
      "5050\n"
     ]
    }
   ],
   "source": [
    "total = 0\n",
    "for num in range(101):\n",
    "    total = total + num\n",
    "print(total)"
   ]
  },
  {
   "cell_type": "markdown",
   "id": "81d99613",
   "metadata": {},
   "source": [
    "### Range"
   ]
  },
  {
   "cell_type": "code",
   "execution_count": 38,
   "id": "570a0e63",
   "metadata": {},
   "outputs": [
    {
     "name": "stdout",
     "output_type": "stream",
     "text": [
      "12\n",
      "13\n",
      "14\n",
      "15\n"
     ]
    }
   ],
   "source": [
    "for i in range(12, 16):\n",
    "    print(i)"
   ]
  },
  {
   "cell_type": "code",
   "execution_count": 39,
   "id": "7783f87d",
   "metadata": {},
   "outputs": [
    {
     "name": "stdout",
     "output_type": "stream",
     "text": [
      "0\n",
      "2\n",
      "4\n",
      "6\n",
      "8\n"
     ]
    }
   ],
   "source": [
    "for i in range(0, 10, 2):\n",
    "    print(i)"
   ]
  },
  {
   "cell_type": "code",
   "execution_count": 50,
   "id": "88d14583",
   "metadata": {},
   "outputs": [
    {
     "name": "stdout",
     "output_type": "stream",
     "text": [
      "5\n",
      "4\n",
      "3\n",
      "2\n"
     ]
    }
   ],
   "source": [
    "for i in range(5, 1, -1):\n",
    "    print(i)"
   ]
  },
  {
   "cell_type": "code",
   "execution_count": 51,
   "id": "b79eee3f",
   "metadata": {},
   "outputs": [],
   "source": [
    "import random"
   ]
  },
  {
   "cell_type": "code",
   "execution_count": 52,
   "id": "52591ac7",
   "metadata": {},
   "outputs": [
    {
     "name": "stdout",
     "output_type": "stream",
     "text": [
      "I am thinking of a number between 1 and 20.\n",
      "Take a guess between 1-20.\n",
      "9\n",
      "Your guess is too low.\n",
      "Take a guess between 1-20.\n",
      "12\n",
      "Your guess is too low.\n",
      "Take a guess between 1-20.\n",
      "17\n",
      "Your guess is too high.\n",
      "Take a guess between 1-20.\n",
      "15\n",
      "Your guess is too high.\n",
      "Take a guess between 1-20.\n",
      "13\n",
      "Your guess is too low.\n",
      "Nope. The number I was thinking of was 14\n"
     ]
    }
   ],
   "source": [
    "# This is a guess the number game.\n",
    "import random\n",
    "secretNumber = random.randint(1, 20)\n",
    "print('I am thinking of a number between 1 and 20.')\n",
    "\n",
    "# Ask the player to guess 5 times.\n",
    "for guess_count in range(5):\n",
    "    print('Take a guess between 1-20.')\n",
    "    guess = int(input())\n",
    "\n",
    "    if guess < secretNumber:\n",
    "        print('Your guess is too low.')\n",
    "    elif guess > secretNumber:\n",
    "        print('Your guess is too high.')\n",
    "    else:\n",
    "        break    # This condition is the correct guess!\n",
    "\n",
    "if guess == secretNumber:\n",
    "    print('Good job! You guessed my number in ' + str(guess_count) + ' guesses!')\n",
    "else:\n",
    "    print('Nope. The number I was thinking of was ' + str(secretNumber))"
   ]
  },
  {
   "cell_type": "markdown",
   "id": "26769e73",
   "metadata": {},
   "source": [
    "### Project Euler Q1\n",
    "\n",
    "If we list all the natural numbers below 10 that are multiples of 3 or 5, we get 3, 5, 6 and 9. The sum of these multiples is 23.\n",
    "\n",
    "Find the sum of all the multiples of 3 or 5 below 1000."
   ]
  },
  {
   "cell_type": "code",
   "execution_count": 53,
   "id": "f3e8fe02",
   "metadata": {},
   "outputs": [
    {
     "name": "stdout",
     "output_type": "stream",
     "text": [
      "233168\n"
     ]
    }
   ],
   "source": [
    "total = 0\n",
    "for i in range(1, 1000):\n",
    "    if i % 3 == 0 or i % 5 == 0:\n",
    "        total += i\n",
    "print(total)"
   ]
  },
  {
   "cell_type": "markdown",
   "id": "6d6cd2d1",
   "metadata": {},
   "source": [
    "### Project Euler Q4\n",
    "\n",
    "A palindromic number reads the same both ways. The largest palindrome made from the product of two 2-digit numbers is 9009 = 91 × 99.\n",
    "\n",
    "Find the largest palindrome made from the product of two 3-digit numbers."
   ]
  },
  {
   "cell_type": "code",
   "execution_count": 62,
   "id": "fea41146",
   "metadata": {},
   "outputs": [
    {
     "name": "stdout",
     "output_type": "stream",
     "text": [
      "0\n",
      "0.00700068473815918\n"
     ]
    }
   ],
   "source": [
    "import time\n",
    "start = time.time()\n",
    "_max = 0\n",
    "for i in range(900, 1000):\n",
    "    for j in range(900, 1000):\n",
    "        if str(i * j) == str(i * j)[ : : -1]:\n",
    "            if i * j > _max:\n",
    "                _max = i * j\n",
    "print(_max)\n",
    "end = time.time()\n",
    "print(end - start)"
   ]
  },
  {
   "cell_type": "code",
   "execution_count": 63,
   "id": "9fe84305",
   "metadata": {},
   "outputs": [],
   "source": [
    "reversed?"
   ]
  },
  {
   "cell_type": "markdown",
   "id": "518de3c4",
   "metadata": {},
   "source": [
    "### keys(), values(), and items() Methods in Dictionary"
   ]
  },
  {
   "cell_type": "code",
   "execution_count": 64,
   "id": "00a8947b",
   "metadata": {},
   "outputs": [
    {
     "name": "stdout",
     "output_type": "stream",
     "text": [
      "red\n",
      "42\n"
     ]
    }
   ],
   "source": [
    "spam = {'color': 'red', 'age': 42}\n",
    "for v in spam.values():\n",
    "    print(v)"
   ]
  },
  {
   "cell_type": "code",
   "execution_count": 65,
   "id": "4826beb2",
   "metadata": {},
   "outputs": [
    {
     "name": "stdout",
     "output_type": "stream",
     "text": [
      "color\n",
      "age\n"
     ]
    }
   ],
   "source": [
    "for k in spam.keys():\n",
    "    print(k)"
   ]
  },
  {
   "cell_type": "code",
   "execution_count": 66,
   "id": "3a599cc8",
   "metadata": {},
   "outputs": [
    {
     "name": "stdout",
     "output_type": "stream",
     "text": [
      "('color', 'red')\n",
      "('age', 42)\n"
     ]
    }
   ],
   "source": [
    "for i in spam.items():\n",
    "    print(i)"
   ]
  },
  {
   "cell_type": "code",
   "execution_count": 67,
   "id": "472409da",
   "metadata": {},
   "outputs": [
    {
     "name": "stdout",
     "output_type": "stream",
     "text": [
      "key: color - value: red\n",
      "key: age - value: 42\n"
     ]
    }
   ],
   "source": [
    "for k,v in spam.items():\n",
    "    print(f\"key: {k} - value: {v}\")"
   ]
  },
  {
   "cell_type": "code",
   "execution_count": 68,
   "id": "70601308",
   "metadata": {},
   "outputs": [
    {
     "name": "stdout",
     "output_type": "stream",
     "text": [
      "Dark Knight\n",
      "Memento\n"
     ]
    }
   ],
   "source": [
    "for item in [\"Dark Knight\", \"Memento\"]:\n",
    "    print(item)"
   ]
  },
  {
   "cell_type": "code",
   "execution_count": null,
   "id": "8bf8dc8d",
   "metadata": {},
   "outputs": [],
   "source": [
    "allGuests = {'Alice': {'apples': 5, 'pretzels': 12},\n",
    "                    'Bob': {'ham sandwiches': 3, 'apples': 2},\n",
    "                    'Carol': {'cups': 3, 'apple pies': 1}}"
   ]
  },
  {
   "cell_type": "markdown",
   "id": "9528f355",
   "metadata": {},
   "source": [
    "## While loop"
   ]
  },
  {
   "cell_type": "code",
   "execution_count": 69,
   "id": "82a1e53d",
   "metadata": {},
   "outputs": [
    {
     "name": "stdout",
     "output_type": "stream",
     "text": [
      "Hello, world.\n"
     ]
    }
   ],
   "source": [
    "count = 0\n",
    "if count < 5:\n",
    "    print('Hello, world.')\n",
    "    count = count + 1"
   ]
  },
  {
   "cell_type": "code",
   "execution_count": 70,
   "id": "357073fe",
   "metadata": {},
   "outputs": [
    {
     "name": "stdout",
     "output_type": "stream",
     "text": [
      "Hello, world.\n",
      "Hello, world.\n",
      "Hello, world.\n",
      "Hello, world.\n",
      "Hello, world.\n"
     ]
    }
   ],
   "source": [
    "count = 0\n",
    "while count < 5:\n",
    "    print('Hello, world.')\n",
    "    count = count + 1"
   ]
  },
  {
   "cell_type": "code",
   "execution_count": null,
   "id": "ba946797",
   "metadata": {},
   "outputs": [],
   "source": []
  },
  {
   "cell_type": "code",
   "execution_count": 71,
   "id": "2f8970c5",
   "metadata": {},
   "outputs": [
    {
     "name": "stdout",
     "output_type": "stream",
     "text": [
      "Please type your name.\n",
      "Yağız\n",
      "Thank you!\n",
      "Please type your name.\n",
      "break\n",
      "Thank you!\n",
      "Please type your name.\n",
      "yagiz\n"
     ]
    }
   ],
   "source": [
    "while True:\n",
    "    print('Please type your name.')\n",
    "    name = input()\n",
    "    if name == 'yagiz':\n",
    "        break\n",
    "    print('Thank you!')"
   ]
  },
  {
   "cell_type": "code",
   "execution_count": 72,
   "id": "483039ee",
   "metadata": {},
   "outputs": [
    {
     "name": "stdout",
     "output_type": "stream",
     "text": [
      "Who are you?\n",
      "joe\n",
      "try again!\n",
      "Who are you?\n",
      "Joe\n",
      "Hello, Joe. What is the password? (It is a fish.)\n",
      "sw\n",
      "Who are you?\n",
      "Joe\n",
      "Hello, Joe. What is the password? (It is a fish.)\n",
      "swordfish\n",
      "Access granted.\n"
     ]
    }
   ],
   "source": [
    "while True:\n",
    "    print('Who are you?')\n",
    "    name = input()\n",
    "    if name != 'Joe':\n",
    "        print(\"try again!\")\n",
    "        continue\n",
    "    print('Hello, Joe. What is the password? (It is a fish.)')\n",
    "    password = input()\n",
    "    if password == 'swordfish':\n",
    "        print('Access granted.')\n",
    "        break"
   ]
  },
  {
   "cell_type": "code",
   "execution_count": 73,
   "id": "6b91120e",
   "metadata": {
    "scrolled": true
   },
   "outputs": [
    {
     "name": "stdout",
     "output_type": "stream",
     "text": [
      "Enter a name: (blank to quit)\n",
      "yagiz\n",
      "I do not have birthday information for yagiz\n",
      "What is their birthday?\n",
      "1 ocak\n",
      "Birthday database updated.\n",
      "Enter a name: (blank to quit)\n",
      "\n"
     ]
    }
   ],
   "source": [
    "birthdays = {'Alice': 'Apr 1', 'Bob': 'Dec 12', 'Carol': 'Mar 4'}\n",
    "\n",
    "while True:\n",
    "    print('Enter a name: (blank to quit)')\n",
    "    name = input()\n",
    "    if name == '':\n",
    "        break\n",
    "\n",
    "    if name in birthdays:\n",
    "        print(birthdays[name] + ' is the birthday of ' + name)\n",
    "    else:\n",
    "        print('I do not have birthday information for ' + name)\n",
    "        print('What is their birthday?')\n",
    "        bday = input()\n",
    "        birthdays[name] = bday\n",
    "        print('Birthday database updated.')"
   ]
  },
  {
   "cell_type": "code",
   "execution_count": 74,
   "id": "d53a0ae7",
   "metadata": {},
   "outputs": [
    {
     "data": {
      "text/plain": [
       "{'Alice': 'Apr 1', 'Bob': 'Dec 12', 'Carol': 'Mar 4', 'yagiz': '1 ocak'}"
      ]
     },
     "execution_count": 74,
     "metadata": {},
     "output_type": "execute_result"
    }
   ],
   "source": [
    "birthdays"
   ]
  },
  {
   "cell_type": "markdown",
   "id": "3c20febc",
   "metadata": {},
   "source": [
    "### Project Euler Q2\n",
    "\n",
    "Each new term in the Fibonacci sequence is generated by adding the previous two terms. By starting with 1 and 2, the first 10 terms will be:\n",
    "\n",
    "1, 2, 3, 5, 8, 13, 21, 34, 55, 89, ...\n",
    "\n",
    "By considering the terms in the Fibonacci sequence whose values do not exceed four million, find the sum of the even-valued terms."
   ]
  },
  {
   "cell_type": "code",
   "execution_count": 77,
   "id": "63612cda",
   "metadata": {},
   "outputs": [
    {
     "name": "stdout",
     "output_type": "stream",
     "text": [
      "4613732\n"
     ]
    }
   ],
   "source": [
    "\n",
    "fibonacci = list()  # [ ]\n",
    "fibonacci.append(1)\n",
    "fibonacci.append(2)\n",
    "i = 2\n",
    "while True:\n",
    "    if fibonacci[i-1] + fibonacci[i-2] < 4000000:\n",
    "        fibonacci.append(fibonacci[i-1] + fibonacci[i-2])\n",
    "        i += 1\n",
    "    else:\n",
    "        break\n",
    "        \n",
    "_sum = 0\n",
    "for i in fibonacci:\n",
    "    if i % 2 == 0:\n",
    "        _sum += i\n",
    "        \n",
    "print(_sum)    "
   ]
  },
  {
   "cell_type": "code",
   "execution_count": 78,
   "id": "132e4b53",
   "metadata": {},
   "outputs": [
    {
     "data": {
      "text/plain": [
       "[1,\n",
       " 2,\n",
       " 3,\n",
       " 5,\n",
       " 8,\n",
       " 13,\n",
       " 21,\n",
       " 34,\n",
       " 55,\n",
       " 89,\n",
       " 144,\n",
       " 233,\n",
       " 377,\n",
       " 610,\n",
       " 987,\n",
       " 1597,\n",
       " 2584,\n",
       " 4181,\n",
       " 6765,\n",
       " 10946,\n",
       " 17711,\n",
       " 28657,\n",
       " 46368,\n",
       " 75025,\n",
       " 121393,\n",
       " 196418,\n",
       " 317811,\n",
       " 514229,\n",
       " 832040,\n",
       " 1346269,\n",
       " 2178309,\n",
       " 3524578]"
      ]
     },
     "execution_count": 78,
     "metadata": {},
     "output_type": "execute_result"
    }
   ],
   "source": [
    "fibonacci"
   ]
  },
  {
   "cell_type": "code",
   "execution_count": 82,
   "id": "dad9f5bd",
   "metadata": {},
   "outputs": [],
   "source": [
    "print?"
   ]
  },
  {
   "cell_type": "markdown",
   "id": "c99cf65d",
   "metadata": {},
   "source": [
    "## For home exercises:\n",
    "\n",
    "- https://leetcode.com/\n",
    "- https://www.practicepython.org/\n",
    "- https://pynative.com/python-exercises-with-solutions/"
   ]
  }
 ],
 "metadata": {
  "kernelspec": {
   "display_name": "Python 3 (ipykernel)",
   "language": "python",
   "name": "python3"
  },
  "language_info": {
   "codemirror_mode": {
    "name": "ipython",
    "version": 3
   },
   "file_extension": ".py",
   "mimetype": "text/x-python",
   "name": "python",
   "nbconvert_exporter": "python",
   "pygments_lexer": "ipython3",
   "version": "3.8.10"
  }
 },
 "nbformat": 4,
 "nbformat_minor": 5
}
